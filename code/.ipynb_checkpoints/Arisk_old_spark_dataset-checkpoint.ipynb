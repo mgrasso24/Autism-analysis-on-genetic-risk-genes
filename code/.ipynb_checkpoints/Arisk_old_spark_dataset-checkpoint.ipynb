{
 "cells": [
  {
   "cell_type": "markdown",
   "metadata": {},
   "source": [
    "## A-risk notebook"
   ]
  },
  {
   "cell_type": "code",
   "execution_count": null,
   "metadata": {},
   "outputs": [],
   "source": [
    "This notebook calculates A-risk score - the chance of devleoping autism in this gene. "
   ]
  },
  {
   "cell_type": "markdown",
   "metadata": {},
   "source": [
    "Note - This code is from another github notebook (Reference: https://github.com/ShenLab/A-risk), just ran with an updated SFARI dataset. "
   ]
  },
  {
   "cell_type": "code",
   "execution_count": 1,
   "metadata": {},
   "outputs": [],
   "source": [
    "#5-fold cross validation\n",
    "# Run GBT classifier with cross-validation and plot ROC curves\n",
    "import numpy as np\n",
    "import pandas as pd\n",
    "import matplotlib.pyplot as plt\n",
    "from functools import reduce\n",
    "\n",
    "from sklearn.metrics import roc_curve, auc\n",
    "from sklearn import metrics\n",
    "from sklearn.ensemble import GradientBoostingClassifier\n",
    "from sklearn.model_selection import StratifiedKFold\n",
    "from scipy import interp \n",
    "from itertools import cycle\n"
   ]
  },
  {
   "cell_type": "code",
   "execution_count": 2,
   "metadata": {},
   "outputs": [],
   "source": [
    "#load the RNA_seq data f\n",
    "lm = pd.read_csv(\"~/myproject/Autism-discovering-genetic-risk-genes/data/celltype>10cells_fraction_LM_noUnk.csv\", index_col=0)\n",
    "zhong = pd.read_csv(\"~/myproject/Autism-discovering-genetic-risk-genes/data/celltype>10cells_fraction_zhong.csv\", index_col=0)"
   ]
  },
  {
   "cell_type": "code",
   "execution_count": 3,
   "metadata": {},
   "outputs": [],
   "source": [
    "df_merged = [lm, zhong]\n",
    "data = reduce(lambda left,right: pd.merge(left,right, left_index=True, right_index=True, how='inner'), df_merged)"
   ]
  },
  {
   "cell_type": "code",
   "execution_count": 4,
   "metadata": {},
   "outputs": [],
   "source": [
    "# the autism gene is from the SFARI database obtained July 13, 2023 and I flirted it to only include sutism risk genes with a score of 1 or 2\n",
    "\n",
    "autism_gene = pd.read_csv(\"~/myproject/Autism-discovering-genetic-risk-genes/data/SFARI-Gene_genes_04-03-2023release_07-13-2023export_gene_score_1_2.csv\", index_col=0)\n",
    "control_gene = pd.read_csv(\"~/myproject/Autism-discovering-genetic-risk-genes/data/control_genes_1911_iossifov.csv\", index_col=0)"
   ]
  },
  {
   "cell_type": "code",
   "execution_count": 5,
   "metadata": {},
   "outputs": [
    {
     "data": {
      "text/html": [
       "<div>\n",
       "<style scoped>\n",
       "    .dataframe tbody tr th:only-of-type {\n",
       "        vertical-align: middle;\n",
       "    }\n",
       "\n",
       "    .dataframe tbody tr th {\n",
       "        vertical-align: top;\n",
       "    }\n",
       "\n",
       "    .dataframe thead th {\n",
       "        text-align: right;\n",
       "    }\n",
       "</style>\n",
       "<table border=\"1\" class=\"dataframe\">\n",
       "  <thead>\n",
       "    <tr style=\"text-align: right;\">\n",
       "      <th></th>\n",
       "      <th>gene-symbol</th>\n",
       "      <th>gene-name</th>\n",
       "      <th>ensembl-id</th>\n",
       "      <th>chromosome</th>\n",
       "      <th>genetic-category</th>\n",
       "      <th>gene-score</th>\n",
       "      <th>syndromic</th>\n",
       "      <th>eagle</th>\n",
       "      <th>number-of-reports</th>\n",
       "    </tr>\n",
       "    <tr>\n",
       "      <th>status</th>\n",
       "      <th></th>\n",
       "      <th></th>\n",
       "      <th></th>\n",
       "      <th></th>\n",
       "      <th></th>\n",
       "      <th></th>\n",
       "      <th></th>\n",
       "      <th></th>\n",
       "      <th></th>\n",
       "    </tr>\n",
       "  </thead>\n",
       "  <tbody>\n",
       "    <tr>\n",
       "      <th>9</th>\n",
       "      <td>ABAT</td>\n",
       "      <td>4-aminobutyrate aminotransferase</td>\n",
       "      <td>ENSG00000183044</td>\n",
       "      <td>16</td>\n",
       "      <td>Rare Single Gene Mutation, Genetic Association</td>\n",
       "      <td>2</td>\n",
       "      <td>0</td>\n",
       "      <td>NaN</td>\n",
       "      <td>7</td>\n",
       "    </tr>\n",
       "    <tr>\n",
       "      <th>9</th>\n",
       "      <td>ABCA10</td>\n",
       "      <td>ATP-binding cassette, sub-family A (ABC1), mem...</td>\n",
       "      <td>ENSG00000154263</td>\n",
       "      <td>17</td>\n",
       "      <td>Rare Single Gene Mutation</td>\n",
       "      <td>2</td>\n",
       "      <td>0</td>\n",
       "      <td>NaN</td>\n",
       "      <td>2</td>\n",
       "    </tr>\n",
       "    <tr>\n",
       "      <th>9</th>\n",
       "      <td>ABCA13</td>\n",
       "      <td>ATP binding cassette subfamily A member 13</td>\n",
       "      <td>ENSG00000179869</td>\n",
       "      <td>7</td>\n",
       "      <td>Rare Single Gene Mutation, Functional</td>\n",
       "      <td>2</td>\n",
       "      <td>0</td>\n",
       "      <td>NaN</td>\n",
       "      <td>10</td>\n",
       "    </tr>\n",
       "    <tr>\n",
       "      <th>9</th>\n",
       "      <td>ABCA7</td>\n",
       "      <td>ATP-binding cassette, sub-family A (ABC1), mem...</td>\n",
       "      <td>ENSG00000064687</td>\n",
       "      <td>19</td>\n",
       "      <td>Rare Single Gene Mutation</td>\n",
       "      <td>2</td>\n",
       "      <td>0</td>\n",
       "      <td>NaN</td>\n",
       "      <td>5</td>\n",
       "    </tr>\n",
       "    <tr>\n",
       "      <th>9</th>\n",
       "      <td>ABCE1</td>\n",
       "      <td>ATP binding cassette subfamily E member 1</td>\n",
       "      <td>ENSG00000164163</td>\n",
       "      <td>4</td>\n",
       "      <td>Rare Single Gene Mutation</td>\n",
       "      <td>1</td>\n",
       "      <td>0</td>\n",
       "      <td>NaN</td>\n",
       "      <td>3</td>\n",
       "    </tr>\n",
       "    <tr>\n",
       "      <th>...</th>\n",
       "      <td>...</td>\n",
       "      <td>...</td>\n",
       "      <td>...</td>\n",
       "      <td>...</td>\n",
       "      <td>...</td>\n",
       "      <td>...</td>\n",
       "      <td>...</td>\n",
       "      <td>...</td>\n",
       "      <td>...</td>\n",
       "    </tr>\n",
       "    <tr>\n",
       "      <th>9</th>\n",
       "      <td>ZNF713</td>\n",
       "      <td>Zinc finger protein 713</td>\n",
       "      <td>ENSG00000178665</td>\n",
       "      <td>7</td>\n",
       "      <td>Rare Single Gene Mutation</td>\n",
       "      <td>2</td>\n",
       "      <td>0</td>\n",
       "      <td>NaN</td>\n",
       "      <td>3</td>\n",
       "    </tr>\n",
       "    <tr>\n",
       "      <th>9</th>\n",
       "      <td>ZNF774</td>\n",
       "      <td>Zinc finger protein 774</td>\n",
       "      <td>ENSG00000196391</td>\n",
       "      <td>15</td>\n",
       "      <td>Rare Single Gene Mutation</td>\n",
       "      <td>2</td>\n",
       "      <td>0</td>\n",
       "      <td>NaN</td>\n",
       "      <td>4</td>\n",
       "    </tr>\n",
       "    <tr>\n",
       "      <th>9</th>\n",
       "      <td>ZNF804A</td>\n",
       "      <td>Zinc finger protein 804A</td>\n",
       "      <td>ENSG00000170396</td>\n",
       "      <td>2</td>\n",
       "      <td>Rare Single Gene Mutation, Genetic Association...</td>\n",
       "      <td>2</td>\n",
       "      <td>0</td>\n",
       "      <td>NaN</td>\n",
       "      <td>16</td>\n",
       "    </tr>\n",
       "    <tr>\n",
       "      <th>9</th>\n",
       "      <td>ZNF827</td>\n",
       "      <td>Zinc finger protein 827</td>\n",
       "      <td>ENSG00000151612</td>\n",
       "      <td>4</td>\n",
       "      <td>Rare Single Gene Mutation, Genetic Association</td>\n",
       "      <td>2</td>\n",
       "      <td>0</td>\n",
       "      <td>NaN</td>\n",
       "      <td>3</td>\n",
       "    </tr>\n",
       "    <tr>\n",
       "      <th>9</th>\n",
       "      <td>ZWILCH</td>\n",
       "      <td>zwilchkinetochore protein</td>\n",
       "      <td>ENSG00000174442</td>\n",
       "      <td>15</td>\n",
       "      <td>Rare Single Gene Mutation</td>\n",
       "      <td>2</td>\n",
       "      <td>0</td>\n",
       "      <td>NaN</td>\n",
       "      <td>5</td>\n",
       "    </tr>\n",
       "  </tbody>\n",
       "</table>\n",
       "<p>931 rows × 9 columns</p>\n",
       "</div>"
      ],
      "text/plain": [
       "       gene-symbol                                          gene-name  \\\n",
       "status                                                                  \n",
       "9             ABAT                   4-aminobutyrate aminotransferase   \n",
       "9           ABCA10  ATP-binding cassette, sub-family A (ABC1), mem...   \n",
       "9           ABCA13         ATP binding cassette subfamily A member 13   \n",
       "9            ABCA7  ATP-binding cassette, sub-family A (ABC1), mem...   \n",
       "9            ABCE1          ATP binding cassette subfamily E member 1   \n",
       "...            ...                                                ...   \n",
       "9           ZNF713                            Zinc finger protein 713   \n",
       "9           ZNF774                            Zinc finger protein 774   \n",
       "9          ZNF804A                           Zinc finger protein 804A   \n",
       "9           ZNF827                            Zinc finger protein 827   \n",
       "9           ZWILCH                          zwilchkinetochore protein   \n",
       "\n",
       "             ensembl-id chromosome  \\\n",
       "status                               \n",
       "9       ENSG00000183044         16   \n",
       "9       ENSG00000154263         17   \n",
       "9       ENSG00000179869          7   \n",
       "9       ENSG00000064687         19   \n",
       "9       ENSG00000164163          4   \n",
       "...                 ...        ...   \n",
       "9       ENSG00000178665          7   \n",
       "9       ENSG00000196391         15   \n",
       "9       ENSG00000170396          2   \n",
       "9       ENSG00000151612          4   \n",
       "9       ENSG00000174442         15   \n",
       "\n",
       "                                         genetic-category  gene-score  \\\n",
       "status                                                                  \n",
       "9          Rare Single Gene Mutation, Genetic Association           2   \n",
       "9                               Rare Single Gene Mutation           2   \n",
       "9                   Rare Single Gene Mutation, Functional           2   \n",
       "9                               Rare Single Gene Mutation           2   \n",
       "9                               Rare Single Gene Mutation           1   \n",
       "...                                                   ...         ...   \n",
       "9                               Rare Single Gene Mutation           2   \n",
       "9                               Rare Single Gene Mutation           2   \n",
       "9       Rare Single Gene Mutation, Genetic Association...           2   \n",
       "9          Rare Single Gene Mutation, Genetic Association           2   \n",
       "9                               Rare Single Gene Mutation           2   \n",
       "\n",
       "        syndromic  eagle  number-of-reports  \n",
       "status                                       \n",
       "9               0    NaN                  7  \n",
       "9               0    NaN                  2  \n",
       "9               0    NaN                 10  \n",
       "9               0    NaN                  5  \n",
       "9               0    NaN                  3  \n",
       "...           ...    ...                ...  \n",
       "9               0    NaN                  3  \n",
       "9               0    NaN                  4  \n",
       "9               0    NaN                 16  \n",
       "9               0    NaN                  3  \n",
       "9               0    NaN                  5  \n",
       "\n",
       "[931 rows x 9 columns]"
      ]
     },
     "execution_count": 5,
     "metadata": {},
     "output_type": "execute_result"
    }
   ],
   "source": [
    "autism_gene"
   ]
  },
  {
   "cell_type": "code",
   "execution_count": 6,
   "metadata": {},
   "outputs": [
    {
     "data": {
      "text/plain": [
       "(854, 95)"
      ]
     },
     "execution_count": 6,
     "metadata": {},
     "output_type": "execute_result"
    }
   ],
   "source": [
    "autism = data.loc[data.index.intersection(autism_gene['gene-symbol']),]\n",
    "autism.shape"
   ]
  },
  {
   "cell_type": "code",
   "execution_count": 7,
   "metadata": {},
   "outputs": [
    {
     "data": {
      "text/plain": [
       "(156, 95)"
      ]
     },
     "execution_count": 7,
     "metadata": {},
     "output_type": "execute_result"
    }
   ],
   "source": [
    "control = data.loc[data.index.intersection(control_gene['GeneName']), ]\n",
    "control.shape"
   ]
  },
  {
   "cell_type": "code",
   "execution_count": 8,
   "metadata": {},
   "outputs": [
    {
     "data": {
      "text/plain": [
       "Index(['KDM5B', 'JMJD1C', 'DOCK1', 'NAV3', 'CEP290', 'ZNF774', 'CACNA1H',\n",
       "       'MYH10', 'RAI1', 'EIF3G', 'DPP4', 'TTN', 'LZTR1', 'MUC4', 'PIK3CG',\n",
       "       'DOCK4', 'KANK1', 'ATRX'],\n",
       "      dtype='object')"
      ]
     },
     "execution_count": 8,
     "metadata": {},
     "output_type": "execute_result"
    }
   ],
   "source": [
    "# looking for overlap between the controls/ autism risk genes \n",
    "autism.index.intersection(control.index)"
   ]
  },
  {
   "cell_type": "code",
   "execution_count": 9,
   "metadata": {},
   "outputs": [
    {
     "data": {
      "text/plain": [
       "(139, 95)"
      ]
     },
     "execution_count": 9,
     "metadata": {},
     "output_type": "execute_result"
    }
   ],
   "source": [
    "# excluded the overlap from the negative training dataset \n",
    "control = control.drop(['KDM5B', ])\n",
    "control = control.drop(['DOCK1', ])\n",
    "control = control.drop(['NAV3', ])\n",
    "control = control.drop(['CEP290', ])\n",
    "control = control.drop(['ZNF774', ])\n",
    "control = control.drop(['CACNA1H', ])\n",
    "control = control.drop(['MYH10', ])\n",
    "control = control.drop(['RAI1', ])\n",
    "control = control.drop(['EIF3G', ])\n",
    "control = control.drop(['DPP4', ])\n",
    "control = control.drop(['TTN', ])\n",
    "control = control.drop(['LZTR1', ])\n",
    "control = control.drop(['MUC4', ])\n",
    "control = control.drop(['PIK3CG', ])\n",
    "control = control.drop(['DOCK4', ])\n",
    "control = control.drop(['KANK1', ])\n",
    "control = control.drop(['ATRX', ])\n",
    "\n",
    "control.shape"
   ]
  },
  {
   "cell_type": "code",
   "execution_count": 10,
   "metadata": {},
   "outputs": [
    {
     "data": {
      "text/plain": [
       "(993, 95)"
      ]
     },
     "execution_count": 10,
     "metadata": {},
     "output_type": "execute_result"
    }
   ],
   "source": [
    "combine = [autism, control]\n",
    "combine = pd.concat(combine)\n",
    "combine.shape"
   ]
  },
  {
   "cell_type": "code",
   "execution_count": 11,
   "metadata": {},
   "outputs": [
    {
     "data": {
      "text/plain": [
       "(993, 1)"
      ]
     },
     "execution_count": 11,
     "metadata": {},
     "output_type": "execute_result"
    }
   ],
   "source": [
    "prelabel = np.array([1,0])\n",
    "label = pd.DataFrame({'labels': np.repeat(prelabel, [autism.shape[0], control.shape[0]], axis = 0)})\n",
    "label.shape"
   ]
  },
  {
   "cell_type": "code",
   "execution_count": 12,
   "metadata": {},
   "outputs": [],
   "source": [
    "index = np.random.permutation(label.index)\n",
    "combine = combine.iloc[index]\n",
    "label = label.iloc[index]"
   ]
  },
  {
   "cell_type": "code",
   "execution_count": 13,
   "metadata": {},
   "outputs": [
    {
     "name": "stderr",
     "output_type": "stream",
     "text": [
      "/usr/local/anaconda3/lib/python3.9/site-packages/sklearn/utils/validation.py:63: DataConversionWarning: A column-vector y was passed when a 1d array was expected. Please change the shape of y to (n_samples, ), for example using ravel().\n",
      "  return f(*args, **kwargs)\n",
      "/var/folders/vd/b3txxvcn55qckqbgw5mfn_z80000gn/T/ipykernel_36230/4134823524.py:21: DeprecationWarning: scipy.interp is deprecated and will be removed in SciPy 2.0.0, use numpy.interp instead\n",
      "  tprs.append(interp(mean_fpr, fpr, tpr))\n",
      "/var/folders/vd/b3txxvcn55qckqbgw5mfn_z80000gn/T/ipykernel_36230/4134823524.py:30: SettingWithCopyWarning: \n",
      "A value is trying to be set on a copy of a slice from a DataFrame.\n",
      "Try using .loc[row_indexer,col_indexer] = value instead\n",
      "\n",
      "See the caveats in the documentation: https://pandas.pydata.org/pandas-docs/stable/user_guide/indexing.html#returning-a-view-versus-a-copy\n",
      "  ortable['probas_'] = probas_[:,[1]]\n",
      "/usr/local/anaconda3/lib/python3.9/site-packages/sklearn/utils/validation.py:63: DataConversionWarning: A column-vector y was passed when a 1d array was expected. Please change the shape of y to (n_samples, ), for example using ravel().\n",
      "  return f(*args, **kwargs)\n",
      "/var/folders/vd/b3txxvcn55qckqbgw5mfn_z80000gn/T/ipykernel_36230/4134823524.py:21: DeprecationWarning: scipy.interp is deprecated and will be removed in SciPy 2.0.0, use numpy.interp instead\n",
      "  tprs.append(interp(mean_fpr, fpr, tpr))\n",
      "/var/folders/vd/b3txxvcn55qckqbgw5mfn_z80000gn/T/ipykernel_36230/4134823524.py:30: SettingWithCopyWarning: \n",
      "A value is trying to be set on a copy of a slice from a DataFrame.\n",
      "Try using .loc[row_indexer,col_indexer] = value instead\n",
      "\n",
      "See the caveats in the documentation: https://pandas.pydata.org/pandas-docs/stable/user_guide/indexing.html#returning-a-view-versus-a-copy\n",
      "  ortable['probas_'] = probas_[:,[1]]\n",
      "/usr/local/anaconda3/lib/python3.9/site-packages/sklearn/utils/validation.py:63: DataConversionWarning: A column-vector y was passed when a 1d array was expected. Please change the shape of y to (n_samples, ), for example using ravel().\n",
      "  return f(*args, **kwargs)\n",
      "/var/folders/vd/b3txxvcn55qckqbgw5mfn_z80000gn/T/ipykernel_36230/4134823524.py:21: DeprecationWarning: scipy.interp is deprecated and will be removed in SciPy 2.0.0, use numpy.interp instead\n",
      "  tprs.append(interp(mean_fpr, fpr, tpr))\n",
      "/var/folders/vd/b3txxvcn55qckqbgw5mfn_z80000gn/T/ipykernel_36230/4134823524.py:30: SettingWithCopyWarning: \n",
      "A value is trying to be set on a copy of a slice from a DataFrame.\n",
      "Try using .loc[row_indexer,col_indexer] = value instead\n",
      "\n",
      "See the caveats in the documentation: https://pandas.pydata.org/pandas-docs/stable/user_guide/indexing.html#returning-a-view-versus-a-copy\n",
      "  ortable['probas_'] = probas_[:,[1]]\n",
      "/usr/local/anaconda3/lib/python3.9/site-packages/sklearn/utils/validation.py:63: DataConversionWarning: A column-vector y was passed when a 1d array was expected. Please change the shape of y to (n_samples, ), for example using ravel().\n",
      "  return f(*args, **kwargs)\n",
      "/var/folders/vd/b3txxvcn55qckqbgw5mfn_z80000gn/T/ipykernel_36230/4134823524.py:21: DeprecationWarning: scipy.interp is deprecated and will be removed in SciPy 2.0.0, use numpy.interp instead\n",
      "  tprs.append(interp(mean_fpr, fpr, tpr))\n",
      "/var/folders/vd/b3txxvcn55qckqbgw5mfn_z80000gn/T/ipykernel_36230/4134823524.py:30: SettingWithCopyWarning: \n",
      "A value is trying to be set on a copy of a slice from a DataFrame.\n",
      "Try using .loc[row_indexer,col_indexer] = value instead\n",
      "\n",
      "See the caveats in the documentation: https://pandas.pydata.org/pandas-docs/stable/user_guide/indexing.html#returning-a-view-versus-a-copy\n",
      "  ortable['probas_'] = probas_[:,[1]]\n",
      "/usr/local/anaconda3/lib/python3.9/site-packages/sklearn/utils/validation.py:63: DataConversionWarning: A column-vector y was passed when a 1d array was expected. Please change the shape of y to (n_samples, ), for example using ravel().\n",
      "  return f(*args, **kwargs)\n",
      "/var/folders/vd/b3txxvcn55qckqbgw5mfn_z80000gn/T/ipykernel_36230/4134823524.py:21: DeprecationWarning: scipy.interp is deprecated and will be removed in SciPy 2.0.0, use numpy.interp instead\n",
      "  tprs.append(interp(mean_fpr, fpr, tpr))\n",
      "/var/folders/vd/b3txxvcn55qckqbgw5mfn_z80000gn/T/ipykernel_36230/4134823524.py:30: SettingWithCopyWarning: \n",
      "A value is trying to be set on a copy of a slice from a DataFrame.\n",
      "Try using .loc[row_indexer,col_indexer] = value instead\n",
      "\n",
      "See the caveats in the documentation: https://pandas.pydata.org/pandas-docs/stable/user_guide/indexing.html#returning-a-view-versus-a-copy\n",
      "  ortable['probas_'] = probas_[:,[1]]\n"
     ]
    },
    {
     "data": {
      "image/png": "[encoded data removed]",
      "text/plain": [
       "<Figure size 432x288 with 1 Axes>"
      ]
     },
     "metadata": {
      "needs_background": "light"
     },
     "output_type": "display_data"
    }
   ],
   "source": [
    "cv = StratifiedKFold(n_splits=5)\n",
    "\n",
    "tprs = []\n",
    "aucs = []\n",
    "mean_fpr = np.linspace(0, 1, 100)\n",
    "\n",
    "i = 0\n",
    "pre_df = pd.DataFrame(index = data.index)\n",
    "oddsratio_df = pd.DataFrame(index = np.arange(0.0,1.05,0.05))\n",
    "fi_df = pd.DataFrame()\n",
    "for train, test in cv.split(combine, label):\n",
    "    params = {'n_estimators': 300,'learning_rate': 0.05, 'max_depth':1, 'random_state':2019}\n",
    "    clf = GradientBoostingClassifier(**params).fit(combine.iloc[train], label.iloc[train])\n",
    "    #print(combine.ix[test])\n",
    "    \n",
    "    probas_ = clf.predict_proba(combine.iloc[test])\n",
    "    #print probas_\n",
    "    \n",
    "    # Compute ROC curve and area the curve\n",
    "    fpr, tpr, thresholds = roc_curve(label.iloc[test], probas_[:,[1]])\n",
    "    tprs.append(interp(mean_fpr, fpr, tpr))\n",
    "    tprs[-1][0] = 0.0\n",
    "    roc_auc = auc(fpr, tpr)\n",
    "    aucs.append(roc_auc)\n",
    "    plt.plot(fpr, tpr, lw=1, alpha=0.3,\n",
    "             label='ROC fold %d (AUC = %0.2f)' % (i, roc_auc))\n",
    "    \n",
    "    #calculate odds ratio\n",
    "    ortable = label.iloc[test]\n",
    "    ortable['probas_'] = probas_[:,[1]]\n",
    "    oddsratios = []\n",
    "    for j in np.arange(0.0,1.05,0.05):\n",
    "        upthreshold = ortable[ortable['probas_'] >= j]\n",
    "        x1 = float(sum(upthreshold['labels'] == 1)+1)\n",
    "        x0 = float(sum(upthreshold['labels'] == 0)+1)\n",
    "        \n",
    "        downthreshold = ortable[ortable['probas_'] < j]\n",
    "        y1 = float(sum(downthreshold['labels'] == 1)+1)\n",
    "        y0 = float(sum(downthreshold['labels'] == 0)+1)\n",
    "        \n",
    "        oddsratio = (x1/y1)/(x0/y0)\n",
    "        oddsratios.append(oddsratio)\n",
    "    oddsratio_df.insert(value = oddsratios, column = i, loc = 0)\n",
    "    \n",
    "    prediction = clf.predict_proba(data)\n",
    "    pre_df.insert(value= prediction[:,[1]], column= i, loc=0)\n",
    "    \n",
    "    fi = clf.feature_importances_\n",
    "    fi_df.insert(value= fi, column = i, loc = 0)\n",
    "\n",
    "    i += 1\n",
    "plt.plot([0, 1], [0, 1], linestyle='--', lw=2, color='r',\n",
    "         alpha=.8)\n",
    "\n",
    "mean_tpr = np.mean(tprs, axis=0)\n",
    "mean_tpr[-1] = 1.0\n",
    "mean_auc = auc(mean_fpr, mean_tpr)\n",
    "std_auc = np.std(aucs)\n",
    "plt.plot(mean_fpr, mean_tpr, color='b',\n",
    "         label=r'Mean ROC (AUC = %0.2f $\\pm$ %0.2f)' % (mean_auc, std_auc),\n",
    "         lw=2, alpha=.8)\n",
    "\n",
    "std_tpr = np.std(tprs, axis=0)\n",
    "tprs_upper = np.minimum(mean_tpr + std_tpr, 1)\n",
    "tprs_lower = np.maximum(mean_tpr - std_tpr, 0)\n",
    "plt.fill_between(mean_fpr, tprs_lower, tprs_upper, color='grey', alpha=.2,\n",
    "                 label=r'$\\pm$ 1 std. dev.')\n",
    "\n",
    "plt.xlim([-0.05, 1.05])\n",
    "plt.ylim([-0.05, 1.05])\n",
    "plt.xlabel('False Positive Rate')\n",
    "plt.ylabel('True Positive Rate')\n",
    "plt.title('ROC curve of 5-fold cross validation')\n",
    "plt.legend(loc=\"lower right\")\n",
    "plt.show()\n",
    "#plt.savefig('../plot/ROC_filteredCellNumber_LMZhong_fracE_classifier_average_08292019sfari.pdf', bbox_inches = 'tight')"
   ]
  },
  {
   "cell_type": "code",
   "execution_count": 14,
   "metadata": {},
   "outputs": [],
   "source": [
    "#plot feature importance that are not zero\n",
    "feature_importance = fi_df.mean(axis=1)\n",
    "# make importances relative to max importance\n",
    "#feature_importance = 100.0 * (feature_importance / feature_importance.max())\n",
    "\n",
    "sorted_idx = np.argsort(feature_importance) #Returns the indices that would sort an array\n",
    "sorted_idx = sorted_idx[np.array(feature_importance[sorted_idx] != 0)]"
   ]
  },
  {
   "cell_type": "code",
   "execution_count": 15,
   "metadata": {},
   "outputs": [
    {
     "data": {
      "text/plain": [
       "(69,)"
      ]
     },
     "execution_count": 15,
     "metadata": {},
     "output_type": "execute_result"
    }
   ],
   "source": [
    "sorted_idx.shape"
   ]
  },
  {
   "cell_type": "code",
   "execution_count": 16,
   "metadata": {},
   "outputs": [
    {
     "data": {
      "text/plain": [
       "(69,)"
      ]
     },
     "execution_count": 16,
     "metadata": {},
     "output_type": "execute_result"
    }
   ],
   "source": [
    "pos = np.arange(0,sorted_idx.shape[0]*3, 3) + .5\n",
    "pos.shape"
   ]
  },
  {
   "cell_type": "code",
   "execution_count": 17,
   "metadata": {},
   "outputs": [
    {
     "data": {
      "image/png": "[encoded data removed]",
      "text/plain": [
       "<Figure size 432x288 with 1 Axes>"
      ]
     },
     "metadata": {
      "needs_background": "light"
     },
     "output_type": "display_data"
    }
   ],
   "source": [
    "plt.tick_params(axis = \"y\", labelsize = 3.5)\n",
    "plt.barh(pos, feature_importance[sorted_idx], align='center')\n",
    "plt.yticks(pos, combine.columns[sorted_idx])\n",
    "plt.xlabel('Relative Importance')\n",
    "plt.title('Variable Importance')\n",
    "plt.show()"
   ]
  },
  {
   "cell_type": "code",
   "execution_count": 18,
   "metadata": {},
   "outputs": [
    {
     "data": {
      "text/html": [
       "<div>\n",
       "<style scoped>\n",
       "    .dataframe tbody tr th:only-of-type {\n",
       "        vertical-align: middle;\n",
       "    }\n",
       "\n",
       "    .dataframe tbody tr th {\n",
       "        vertical-align: top;\n",
       "    }\n",
       "\n",
       "    .dataframe thead th {\n",
       "        text-align: right;\n",
       "    }\n",
       "</style>\n",
       "<table border=\"1\" class=\"dataframe\">\n",
       "  <thead>\n",
       "    <tr style=\"text-align: right;\">\n",
       "      <th></th>\n",
       "      <th>celltypes</th>\n",
       "      <th>importance</th>\n",
       "    </tr>\n",
       "  </thead>\n",
       "  <tbody>\n",
       "    <tr>\n",
       "      <th>73</th>\n",
       "      <td>OPCs_1_GW26</td>\n",
       "      <td>0.000336</td>\n",
       "    </tr>\n",
       "    <tr>\n",
       "      <th>7</th>\n",
       "      <td>hDA0_9</td>\n",
       "      <td>0.000378</td>\n",
       "    </tr>\n",
       "    <tr>\n",
       "      <th>43</th>\n",
       "      <td>hProgFPL_8</td>\n",
       "      <td>0.000399</td>\n",
       "    </tr>\n",
       "    <tr>\n",
       "      <th>92</th>\n",
       "      <td>NPCs_7_GW16</td>\n",
       "      <td>0.000662</td>\n",
       "    </tr>\n",
       "    <tr>\n",
       "      <th>84</th>\n",
       "      <td>exneurons_3_GW16</td>\n",
       "      <td>0.000898</td>\n",
       "    </tr>\n",
       "    <tr>\n",
       "      <th>...</th>\n",
       "      <td>...</td>\n",
       "      <td>...</td>\n",
       "    </tr>\n",
       "    <tr>\n",
       "      <th>13</th>\n",
       "      <td>hNbGaba_9</td>\n",
       "      <td>0.041346</td>\n",
       "    </tr>\n",
       "    <tr>\n",
       "      <th>9</th>\n",
       "      <td>hNbML5_9</td>\n",
       "      <td>0.043559</td>\n",
       "    </tr>\n",
       "    <tr>\n",
       "      <th>79</th>\n",
       "      <td>exneurons_2_GW12</td>\n",
       "      <td>0.062965</td>\n",
       "    </tr>\n",
       "    <tr>\n",
       "      <th>51</th>\n",
       "      <td>interneurons_3_GW23</td>\n",
       "      <td>0.098749</td>\n",
       "    </tr>\n",
       "    <tr>\n",
       "      <th>11</th>\n",
       "      <td>hGaba_9</td>\n",
       "      <td>0.203907</td>\n",
       "    </tr>\n",
       "  </tbody>\n",
       "</table>\n",
       "<p>69 rows × 2 columns</p>\n",
       "</div>"
      ],
      "text/plain": [
       "              celltypes  importance\n",
       "73          OPCs_1_GW26    0.000336\n",
       "7                hDA0_9    0.000378\n",
       "43           hProgFPL_8    0.000399\n",
       "92          NPCs_7_GW16    0.000662\n",
       "84     exneurons_3_GW16    0.000898\n",
       "..                  ...         ...\n",
       "13            hNbGaba_9    0.041346\n",
       "9              hNbML5_9    0.043559\n",
       "79     exneurons_2_GW12    0.062965\n",
       "51  interneurons_3_GW23    0.098749\n",
       "11              hGaba_9    0.203907\n",
       "\n",
       "[69 rows x 2 columns]"
      ]
     },
     "execution_count": 18,
     "metadata": {},
     "output_type": "execute_result"
    }
   ],
   "source": [
    "feature_importance_sele = pd.DataFrame({'celltypes': combine.columns[sorted_idx], 'importance': feature_importance[sorted_idx]})\n",
    "feature_importance_sele"
   ]
  },
  {
   "cell_type": "code",
   "execution_count": 19,
   "metadata": {},
   "outputs": [],
   "source": [
    "feature_importance_sele.to_csv('~/myproject/Autism-discovering-genetic-risk-genes/data/feature_importance_filteredCellNumber_LMZhong_fracE_filtergene_zhong_classifier_average_noUnk_08292019sfari.csv')"
   ]
  },
  {
   "cell_type": "code",
   "execution_count": 20,
   "metadata": {},
   "outputs": [
    {
     "data": {
      "text/html": [
       "<div>\n",
       "<style scoped>\n",
       "    .dataframe tbody tr th:only-of-type {\n",
       "        vertical-align: middle;\n",
       "    }\n",
       "\n",
       "    .dataframe tbody tr th {\n",
       "        vertical-align: top;\n",
       "    }\n",
       "\n",
       "    .dataframe thead th {\n",
       "        text-align: right;\n",
       "    }\n",
       "</style>\n",
       "<table border=\"1\" class=\"dataframe\">\n",
       "  <thead>\n",
       "    <tr style=\"text-align: right;\">\n",
       "      <th></th>\n",
       "      <th>Frisk</th>\n",
       "      <th>Batch</th>\n",
       "    </tr>\n",
       "  </thead>\n",
       "  <tbody>\n",
       "    <tr>\n",
       "      <th>DDX11L1</th>\n",
       "      <td>0.791224</td>\n",
       "      <td>testing</td>\n",
       "    </tr>\n",
       "    <tr>\n",
       "      <th>LOC101928626</th>\n",
       "      <td>0.754699</td>\n",
       "      <td>testing</td>\n",
       "    </tr>\n",
       "    <tr>\n",
       "      <th>LINC00115</th>\n",
       "      <td>0.844675</td>\n",
       "      <td>testing</td>\n",
       "    </tr>\n",
       "    <tr>\n",
       "      <th>LINC01128</th>\n",
       "      <td>0.864411</td>\n",
       "      <td>testing</td>\n",
       "    </tr>\n",
       "    <tr>\n",
       "      <th>FAM41C</th>\n",
       "      <td>0.882857</td>\n",
       "      <td>testing</td>\n",
       "    </tr>\n",
       "    <tr>\n",
       "      <th>...</th>\n",
       "      <td>...</td>\n",
       "      <td>...</td>\n",
       "    </tr>\n",
       "    <tr>\n",
       "      <th>TTTY14</th>\n",
       "      <td>0.824419</td>\n",
       "      <td>testing</td>\n",
       "    </tr>\n",
       "    <tr>\n",
       "      <th>CD24</th>\n",
       "      <td>0.939658</td>\n",
       "      <td>testing</td>\n",
       "    </tr>\n",
       "    <tr>\n",
       "      <th>KDM5D</th>\n",
       "      <td>0.840243</td>\n",
       "      <td>testing</td>\n",
       "    </tr>\n",
       "    <tr>\n",
       "      <th>EIF1AY</th>\n",
       "      <td>0.792625</td>\n",
       "      <td>testing</td>\n",
       "    </tr>\n",
       "    <tr>\n",
       "      <th>RPS4Y2</th>\n",
       "      <td>0.758011</td>\n",
       "      <td>testing</td>\n",
       "    </tr>\n",
       "  </tbody>\n",
       "</table>\n",
       "<p>17740 rows × 2 columns</p>\n",
       "</div>"
      ],
      "text/plain": [
       "                 Frisk    Batch\n",
       "DDX11L1       0.791224  testing\n",
       "LOC101928626  0.754699  testing\n",
       "LINC00115     0.844675  testing\n",
       "LINC01128     0.864411  testing\n",
       "FAM41C        0.882857  testing\n",
       "...                ...      ...\n",
       "TTTY14        0.824419  testing\n",
       "CD24          0.939658  testing\n",
       "KDM5D         0.840243  testing\n",
       "EIF1AY        0.792625  testing\n",
       "RPS4Y2        0.758011  testing\n",
       "\n",
       "[17740 rows x 2 columns]"
      ]
     },
     "execution_count": 20,
     "metadata": {},
     "output_type": "execute_result"
    }
   ],
   "source": [
    "pre_prob = pd.DataFrame(pre_df.mean(axis=1))\n",
    "\n",
    "pre_prob['Batch'] = 'testing'\n",
    "pre_prob.loc[autism.index,'Batch'] = 'autism'\n",
    "pre_prob.loc[control.index,'Batch'] = 'control'\n",
    "\n",
    "pre_prob.rename(columns={0 : 'Frisk'}, inplace=True)\n",
    "pre_prob"
   ]
  },
  {
   "cell_type": "code",
   "execution_count": 21,
   "metadata": {},
   "outputs": [],
   "source": [
    "pre_prob.to_csv('~/myproject/Autism-discovering-genetic-risk-genes/data/prediction_allGenes_GBT_filteredCellNumber_LMZhong_fracE_classifier_average_noUnk_08292019sfari.csv')"
   ]
  }
 ],
 "metadata": {
  "kernelspec": {
   "display_name": "Python 3 (ipykernel)",
   "language": "python",
   "name": "python3"
  },
  "language_info": {
   "codemirror_mode": {
    "name": "ipython",
    "version": 3
   },
   "file_extension": ".py",
   "mimetype": "text/x-python",
   "name": "python",
   "nbconvert_exporter": "python",
   "pygments_lexer": "ipython3",
   "version": "3.9.7"
  }
 },
 "nbformat": 4,
 "nbformat_minor": 4
}
