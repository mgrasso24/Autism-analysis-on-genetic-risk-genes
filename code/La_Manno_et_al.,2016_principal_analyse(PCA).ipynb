# Load required libraries
# in R
library(stats)

# Read RNA-Seq count data from a CSV file (adjust the file path accordingly)
rna_seq_counts <- read.csv("~/myproject/Autism-discovering-genetic-risk-genes/data/celltype>10cells_fraction_LM_noUnk.csv", row.names = 1)# Perform PCA
pca_result <- prcomp(rna_seq_counts, scale. = TRUE)

# Extract the principal components
pca_components <- pca_result$x

# Access the standard deviations of the principal components (proportional to variance)
pca_standard_deviations <- pca_result$sdev

# Access the proportion of variance explained by each principal component
pca_variance_proportions <- pca_result$sdev^2 / sum(pca_result$sdev^2)

# View the principal components
print(pca_components)

# Access the proportion of variance explained by each principal component
print(pca_variance_proportions)

# Plot the cumulative proportion of variance explained
cumulative_variance <- cumsum(pca_variance_proportions)
plot(1:length(cumulative_variance), cumulative_variance, type = "b",
     xlab = "Number of Principal Components", ylab = "Cumulative Variance Explained")
