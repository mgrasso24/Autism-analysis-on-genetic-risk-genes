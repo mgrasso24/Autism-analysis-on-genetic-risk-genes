{
 "cells": [
  {
   "cell_type": "markdown",
   "metadata": {},
   "source": [
    "## A-risk notebook"
   ]
  },
  {
   "cell_type": "code",
   "execution_count": null,
   "metadata": {},
   "outputs": [],
   "source": [
    "This notebook calculates A-risk score - the chance of devleoping autism in this gene. "
   ]
  },
  {
   "cell_type": "markdown",
   "metadata": {},
   "source": [
    "Note - This code is from another github notebook (Reference: https://github.com/ShenLab/A-risk), just ran with an updated SFARI dataset. "
   ]
  },
  {
   "cell_type": "code",
   "execution_count": null,
   "metadata": {},
   "outputs": [],
   "source": [
    "# in bash\n",
    "\n",
    "pip install scikit-learn\n",
    "\n",
    "pip install matplotlib"
   ]
  },
  {
   "cell_type": "code",
   "execution_count": 3,
   "metadata": {},
   "outputs": [],
   "source": [
    "#5-fold cross validation\n",
    "# Run GBT classifier with cross-validation and plot ROC curves\n",
    "import numpy as np\n",
    "import pandas as pd\n",
    "from functools import reduce\n",
    "\n",
    "from sklearn.metrics import roc_curve, auc\n",
    "from sklearn import metrics\n",
    "from sklearn.ensemble import GradientBoostingClassifier\n",
    "from sklearn.model_selection import StratifiedKFold\n",
    "from scipy import interp \n",
    "from itertools import cycle\n"
   ]
  },
  {
   "cell_type": "code",
   "execution_count": 4,
   "metadata": {},
   "outputs": [],
   "source": [
    "#load the RNA_seq data f\n",
    "lm = pd.read_csv(\"~/myproject/Autism-discovering-genetic-risk-genes/data/celltype>10cells_fraction_LM_noUnk.csv\", index_col=0)\n",
    "zhong = pd.read_csv(\"~/myproject/Autism-discovering-genetic-risk-genes/data/celltype>10cells_fraction_zhong.csv\", index_col=0)"
   ]
  },
  {
   "cell_type": "code",
   "execution_count": 5,
   "metadata": {},
   "outputs": [],
   "source": [
    "df_merged = [lm, zhong]\n",
    "data = reduce(lambda left,right: pd.merge(left,right, left_index=True, right_index=True, how='inner'), df_merged)"
   ]
  },
  {
   "cell_type": "code",
   "execution_count": 6,
   "metadata": {},
   "outputs": [],
   "source": [
    "# the autism gene is from the SFARI database obtained July 13, 2023 and I flirted it to only include sutism risk genes with a score of 1 or 2\n",
    "\n",
    "autism_gene = pd.read_csv(\"~/myproject/sfari_high_confidence_genes_08292019.csv\", index_col=0)\n",
    "control_gene = pd.read_csv(\"~/myproject/Autism-discovering-genetic-risk-genes/data/control_genes_1911_iossifov.csv\", index_col=0)"
   ]
  },
  {
   "cell_type": "code",
   "execution_count": 7,
   "metadata": {},
   "outputs": [
    {
     "data": {
      "text/html": [
       "<div>\n",
       "<style scoped>\n",
       "    .dataframe tbody tr th:only-of-type {\n",
       "        vertical-align: middle;\n",
       "    }\n",
       "\n",
       "    .dataframe tbody tr th {\n",
       "        vertical-align: top;\n",
       "    }\n",
       "\n",
       "    .dataframe thead th {\n",
       "        text-align: right;\n",
       "    }\n",
       "</style>\n",
       "<table border=\"1\" class=\"dataframe\">\n",
       "  <thead>\n",
       "    <tr style=\"text-align: right;\">\n",
       "      <th></th>\n",
       "      <th>gene.symbol</th>\n",
       "      <th>gene.name</th>\n",
       "      <th>chromosome</th>\n",
       "      <th>genetic.category</th>\n",
       "      <th>gene.score</th>\n",
       "      <th>syndromic</th>\n",
       "      <th>number.of.reports</th>\n",
       "    </tr>\n",
       "    <tr>\n",
       "      <th>status</th>\n",
       "      <th></th>\n",
       "      <th></th>\n",
       "      <th></th>\n",
       "      <th></th>\n",
       "      <th></th>\n",
       "      <th></th>\n",
       "      <th></th>\n",
       "    </tr>\n",
       "  </thead>\n",
       "  <tbody>\n",
       "    <tr>\n",
       "      <th>9</th>\n",
       "      <td>ADNP</td>\n",
       "      <td>Activity-dependent neuroprotector homeobox</td>\n",
       "      <td>20</td>\n",
       "      <td>Rare Single Gene Mutation, Syndromic, Functional</td>\n",
       "      <td>1</td>\n",
       "      <td>1</td>\n",
       "      <td>34</td>\n",
       "    </tr>\n",
       "    <tr>\n",
       "      <th>9</th>\n",
       "      <td>ANK2</td>\n",
       "      <td>Ankyrin 2, neuronal</td>\n",
       "      <td>4</td>\n",
       "      <td>Rare Single Gene Mutation</td>\n",
       "      <td>1</td>\n",
       "      <td>0</td>\n",
       "      <td>13</td>\n",
       "    </tr>\n",
       "    <tr>\n",
       "      <th>9</th>\n",
       "      <td>ANKRD11</td>\n",
       "      <td>ankyrin repeat domain 11</td>\n",
       "      <td>16</td>\n",
       "      <td>Rare Single Gene Mutation, Syndromic</td>\n",
       "      <td>2</td>\n",
       "      <td>1</td>\n",
       "      <td>41</td>\n",
       "    </tr>\n",
       "    <tr>\n",
       "      <th>9</th>\n",
       "      <td>ARID1B</td>\n",
       "      <td>AT-rich interaction domain 1B</td>\n",
       "      <td>6</td>\n",
       "      <td>Rare Single Gene Mutation, Syndromic</td>\n",
       "      <td>1</td>\n",
       "      <td>1</td>\n",
       "      <td>38</td>\n",
       "    </tr>\n",
       "    <tr>\n",
       "      <th>9</th>\n",
       "      <td>ASH1L</td>\n",
       "      <td>Ash1 (absent, small, or homeotic)-like (Drosop...</td>\n",
       "      <td>1</td>\n",
       "      <td>Rare Single Gene Mutation, Syndromic</td>\n",
       "      <td>1</td>\n",
       "      <td>0</td>\n",
       "      <td>13</td>\n",
       "    </tr>\n",
       "    <tr>\n",
       "      <th>...</th>\n",
       "      <td>...</td>\n",
       "      <td>...</td>\n",
       "      <td>...</td>\n",
       "      <td>...</td>\n",
       "      <td>...</td>\n",
       "      <td>...</td>\n",
       "      <td>...</td>\n",
       "    </tr>\n",
       "    <tr>\n",
       "      <th>9</th>\n",
       "      <td>UPF3B</td>\n",
       "      <td>UPF3B, regulator of nonsense mediated mRNA decay</td>\n",
       "      <td>X</td>\n",
       "      <td>Rare Single Gene Mutation, Syndromic</td>\n",
       "      <td>2</td>\n",
       "      <td>1</td>\n",
       "      <td>12</td>\n",
       "    </tr>\n",
       "    <tr>\n",
       "      <th>9</th>\n",
       "      <td>USP15</td>\n",
       "      <td>ubiquitin specific peptidase 15</td>\n",
       "      <td>12</td>\n",
       "      <td>Rare Single Gene Mutation</td>\n",
       "      <td>2</td>\n",
       "      <td>0</td>\n",
       "      <td>3</td>\n",
       "    </tr>\n",
       "    <tr>\n",
       "      <th>9</th>\n",
       "      <td>USP7</td>\n",
       "      <td>Ubiquitin specific peptidase 7 (herpes virus-a...</td>\n",
       "      <td>16</td>\n",
       "      <td>Rare Single Gene Mutation, Syndromic</td>\n",
       "      <td>2</td>\n",
       "      <td>1</td>\n",
       "      <td>7</td>\n",
       "    </tr>\n",
       "    <tr>\n",
       "      <th>9</th>\n",
       "      <td>WAC</td>\n",
       "      <td>WW domain containing adaptor with coiled-coil</td>\n",
       "      <td>10</td>\n",
       "      <td>Rare Single Gene Mutation, Syndromic</td>\n",
       "      <td>2</td>\n",
       "      <td>1</td>\n",
       "      <td>17</td>\n",
       "    </tr>\n",
       "    <tr>\n",
       "      <th>9</th>\n",
       "      <td>WDFY3</td>\n",
       "      <td>WD repeat and FYVE domain containing 3</td>\n",
       "      <td>4</td>\n",
       "      <td>Rare Single Gene Mutation, Functional</td>\n",
       "      <td>2</td>\n",
       "      <td>0</td>\n",
       "      <td>14</td>\n",
       "    </tr>\n",
       "  </tbody>\n",
       "</table>\n",
       "<p>91 rows × 7 columns</p>\n",
       "</div>"
      ],
      "text/plain": [
       "       gene.symbol                                          gene.name   \n",
       "status                                                                  \n",
       "9             ADNP         Activity-dependent neuroprotector homeobox  \\\n",
       "9             ANK2                                Ankyrin 2, neuronal   \n",
       "9          ANKRD11                           ankyrin repeat domain 11   \n",
       "9           ARID1B                      AT-rich interaction domain 1B   \n",
       "9            ASH1L  Ash1 (absent, small, or homeotic)-like (Drosop...   \n",
       "...            ...                                                ...   \n",
       "9            UPF3B   UPF3B, regulator of nonsense mediated mRNA decay   \n",
       "9            USP15                    ubiquitin specific peptidase 15   \n",
       "9             USP7  Ubiquitin specific peptidase 7 (herpes virus-a...   \n",
       "9              WAC      WW domain containing adaptor with coiled-coil   \n",
       "9            WDFY3             WD repeat and FYVE domain containing 3   \n",
       "\n",
       "       chromosome                                  genetic.category   \n",
       "status                                                                \n",
       "9              20  Rare Single Gene Mutation, Syndromic, Functional  \\\n",
       "9               4                         Rare Single Gene Mutation   \n",
       "9              16              Rare Single Gene Mutation, Syndromic   \n",
       "9               6              Rare Single Gene Mutation, Syndromic   \n",
       "9               1              Rare Single Gene Mutation, Syndromic   \n",
       "...           ...                                               ...   \n",
       "9               X              Rare Single Gene Mutation, Syndromic   \n",
       "9              12                         Rare Single Gene Mutation   \n",
       "9              16              Rare Single Gene Mutation, Syndromic   \n",
       "9              10              Rare Single Gene Mutation, Syndromic   \n",
       "9               4             Rare Single Gene Mutation, Functional   \n",
       "\n",
       "        gene.score  syndromic  number.of.reports  \n",
       "status                                            \n",
       "9                1          1                 34  \n",
       "9                1          0                 13  \n",
       "9                2          1                 41  \n",
       "9                1          1                 38  \n",
       "9                1          0                 13  \n",
       "...            ...        ...                ...  \n",
       "9                2          1                 12  \n",
       "9                2          0                  3  \n",
       "9                2          1                  7  \n",
       "9                2          1                 17  \n",
       "9                2          0                 14  \n",
       "\n",
       "[91 rows x 7 columns]"
      ]
     },
     "execution_count": 7,
     "metadata": {},
     "output_type": "execute_result"
    }
   ],
   "source": [
    "autism_gene"
   ]
  },
  {
   "cell_type": "code",
   "execution_count": 9,
   "metadata": {},
   "outputs": [
    {
     "data": {
      "text/plain": [
       "(88, 95)"
      ]
     },
     "execution_count": 9,
     "metadata": {},
     "output_type": "execute_result"
    }
   ],
   "source": [
    "autism = data.loc[data.index.intersection(autism_gene['gene.symbol']),]\n",
    "autism.shape"
   ]
  },
  {
   "cell_type": "code",
   "execution_count": 10,
   "metadata": {},
   "outputs": [
    {
     "data": {
      "text/plain": [
       "(156, 95)"
      ]
     },
     "execution_count": 10,
     "metadata": {},
     "output_type": "execute_result"
    }
   ],
   "source": [
    "control = data.loc[data.index.intersection(control_gene['GeneName']), ]\n",
    "control.shape"
   ]
  },
  {
   "cell_type": "code",
   "execution_count": 11,
   "metadata": {},
   "outputs": [
    {
     "data": {
      "text/plain": [
       "Index(['KDM5B', 'CACNA1H'], dtype='object')"
      ]
     },
     "execution_count": 11,
     "metadata": {},
     "output_type": "execute_result"
    }
   ],
   "source": [
    "# looking for overlap between the controls/ autism risk genes \n",
    "autism.index.intersection(control.index)"
   ]
  },
  {
   "cell_type": "code",
   "execution_count": 12,
   "metadata": {},
   "outputs": [
    {
     "data": {
      "text/plain": [
       "(154, 95)"
      ]
     },
     "execution_count": 12,
     "metadata": {},
     "output_type": "execute_result"
    }
   ],
   "source": [
    "# excluded the overlap from the negative training dataset \n",
    "control = control.drop(['KDM5B', ])\n",
    "control = control.drop(['CACNA1H', ])\n",
    "\n",
    "control.shape"
   ]
  },
  {
   "cell_type": "code",
   "execution_count": 13,
   "metadata": {},
   "outputs": [
    {
     "data": {
      "text/plain": [
       "(242, 95)"
      ]
     },
     "execution_count": 13,
     "metadata": {},
     "output_type": "execute_result"
    }
   ],
   "source": [
    "combine = [autism, control]\n",
    "combine = pd.concat(combine)\n",
    "combine.shape"
   ]
  },
  {
   "cell_type": "code",
   "execution_count": 14,
   "metadata": {},
   "outputs": [
    {
     "data": {
      "text/plain": [
       "(242, 1)"
      ]
     },
     "execution_count": 14,
     "metadata": {},
     "output_type": "execute_result"
    }
   ],
   "source": [
    "prelabel = np.array([1,0])\n",
    "label = pd.DataFrame({'labels': np.repeat(prelabel, [autism.shape[0], control.shape[0]], axis = 0)})\n",
    "label.shape"
   ]
  },
  {
   "cell_type": "code",
   "execution_count": 15,
   "metadata": {},
   "outputs": [],
   "source": [
    "index = np.random.permutation(label.index)\n",
    "combine = combine.iloc[index]\n",
    "label = label.iloc[index]"
   ]
  },
  {
   "cell_type": "code",
   "execution_count": 18,
   "metadata": {},
   "outputs": [],
   "source": [
    "import matplotlib.pyplot as plt\n"
   ]
  },
  {
   "cell_type": "code",
   "execution_count": 19,
   "metadata": {},
   "outputs": [
    {
     "name": "stderr",
     "output_type": "stream",
     "text": [
      "/usr/local/lib/python3.10/site-packages/sklearn/ensemble/_gb.py:424: DataConversionWarning: A column-vector y was passed when a 1d array was expected. Please change the shape of y to (n_samples, ), for example using ravel().\n",
      "  y = column_or_1d(y, warn=True)\n",
      "/var/folders/vd/b3txxvcn55qckqbgw5mfn_z80000gn/T/ipykernel_45226/4134823524.py:21: DeprecationWarning: scipy.interp is deprecated and will be removed in SciPy 2.0.0, use numpy.interp instead\n",
      "  tprs.append(interp(mean_fpr, fpr, tpr))\n",
      "/var/folders/vd/b3txxvcn55qckqbgw5mfn_z80000gn/T/ipykernel_45226/4134823524.py:30: SettingWithCopyWarning: \n",
      "A value is trying to be set on a copy of a slice from a DataFrame.\n",
      "Try using .loc[row_indexer,col_indexer] = value instead\n",
      "\n",
      "See the caveats in the documentation: https://pandas.pydata.org/pandas-docs/stable/user_guide/indexing.html#returning-a-view-versus-a-copy\n",
      "  ortable['probas_'] = probas_[:,[1]]\n",
      "/usr/local/lib/python3.10/site-packages/sklearn/ensemble/_gb.py:424: DataConversionWarning: A column-vector y was passed when a 1d array was expected. Please change the shape of y to (n_samples, ), for example using ravel().\n",
      "  y = column_or_1d(y, warn=True)\n",
      "/var/folders/vd/b3txxvcn55qckqbgw5mfn_z80000gn/T/ipykernel_45226/4134823524.py:21: DeprecationWarning: scipy.interp is deprecated and will be removed in SciPy 2.0.0, use numpy.interp instead\n",
      "  tprs.append(interp(mean_fpr, fpr, tpr))\n",
      "/var/folders/vd/b3txxvcn55qckqbgw5mfn_z80000gn/T/ipykernel_45226/4134823524.py:30: SettingWithCopyWarning: \n",
      "A value is trying to be set on a copy of a slice from a DataFrame.\n",
      "Try using .loc[row_indexer,col_indexer] = value instead\n",
      "\n",
      "See the caveats in the documentation: https://pandas.pydata.org/pandas-docs/stable/user_guide/indexing.html#returning-a-view-versus-a-copy\n",
      "  ortable['probas_'] = probas_[:,[1]]\n",
      "/usr/local/lib/python3.10/site-packages/sklearn/ensemble/_gb.py:424: DataConversionWarning: A column-vector y was passed when a 1d array was expected. Please change the shape of y to (n_samples, ), for example using ravel().\n",
      "  y = column_or_1d(y, warn=True)\n",
      "/var/folders/vd/b3txxvcn55qckqbgw5mfn_z80000gn/T/ipykernel_45226/4134823524.py:21: DeprecationWarning: scipy.interp is deprecated and will be removed in SciPy 2.0.0, use numpy.interp instead\n",
      "  tprs.append(interp(mean_fpr, fpr, tpr))\n",
      "/var/folders/vd/b3txxvcn55qckqbgw5mfn_z80000gn/T/ipykernel_45226/4134823524.py:30: SettingWithCopyWarning: \n",
      "A value is trying to be set on a copy of a slice from a DataFrame.\n",
      "Try using .loc[row_indexer,col_indexer] = value instead\n",
      "\n",
      "See the caveats in the documentation: https://pandas.pydata.org/pandas-docs/stable/user_guide/indexing.html#returning-a-view-versus-a-copy\n",
      "  ortable['probas_'] = probas_[:,[1]]\n",
      "/usr/local/lib/python3.10/site-packages/sklearn/ensemble/_gb.py:424: DataConversionWarning: A column-vector y was passed when a 1d array was expected. Please change the shape of y to (n_samples, ), for example using ravel().\n",
      "  y = column_or_1d(y, warn=True)\n",
      "/var/folders/vd/b3txxvcn55qckqbgw5mfn_z80000gn/T/ipykernel_45226/4134823524.py:21: DeprecationWarning: scipy.interp is deprecated and will be removed in SciPy 2.0.0, use numpy.interp instead\n",
      "  tprs.append(interp(mean_fpr, fpr, tpr))\n",
      "/var/folders/vd/b3txxvcn55qckqbgw5mfn_z80000gn/T/ipykernel_45226/4134823524.py:30: SettingWithCopyWarning: \n",
      "A value is trying to be set on a copy of a slice from a DataFrame.\n",
      "Try using .loc[row_indexer,col_indexer] = value instead\n",
      "\n",
      "See the caveats in the documentation: https://pandas.pydata.org/pandas-docs/stable/user_guide/indexing.html#returning-a-view-versus-a-copy\n",
      "  ortable['probas_'] = probas_[:,[1]]\n",
      "/usr/local/lib/python3.10/site-packages/sklearn/ensemble/_gb.py:424: DataConversionWarning: A column-vector y was passed when a 1d array was expected. Please change the shape of y to (n_samples, ), for example using ravel().\n",
      "  y = column_or_1d(y, warn=True)\n",
      "/var/folders/vd/b3txxvcn55qckqbgw5mfn_z80000gn/T/ipykernel_45226/4134823524.py:21: DeprecationWarning: scipy.interp is deprecated and will be removed in SciPy 2.0.0, use numpy.interp instead\n",
      "  tprs.append(interp(mean_fpr, fpr, tpr))\n",
      "/var/folders/vd/b3txxvcn55qckqbgw5mfn_z80000gn/T/ipykernel_45226/4134823524.py:30: SettingWithCopyWarning: \n",
      "A value is trying to be set on a copy of a slice from a DataFrame.\n",
      "Try using .loc[row_indexer,col_indexer] = value instead\n",
      "\n",
      "See the caveats in the documentation: https://pandas.pydata.org/pandas-docs/stable/user_guide/indexing.html#returning-a-view-versus-a-copy\n",
      "  ortable['probas_'] = probas_[:,[1]]\n"
     ]
    },
    {
     "data": {
      "image/png": "[encoded data removed]",
      "text/plain": [
       "<Figure size 640x480 with 1 Axes>"
      ]
     },
     "metadata": {},
     "output_type": "display_data"
    }
   ],
   "source": [
    "cv = StratifiedKFold(n_splits=5)\n",
    "\n",
    "tprs = []\n",
    "aucs = []\n",
    "mean_fpr = np.linspace(0, 1, 100)\n",
    "\n",
    "i = 0\n",
    "pre_df = pd.DataFrame(index = data.index)\n",
    "oddsratio_df = pd.DataFrame(index = np.arange(0.0,1.05,0.05))\n",
    "fi_df = pd.DataFrame()\n",
    "for train, test in cv.split(combine, label):\n",
    "    params = {'n_estimators': 300,'learning_rate': 0.05, 'max_depth':1, 'random_state':2019}\n",
    "    clf = GradientBoostingClassifier(**params).fit(combine.iloc[train], label.iloc[train])\n",
    "    #print(combine.ix[test])\n",
    "    \n",
    "    probas_ = clf.predict_proba(combine.iloc[test])\n",
    "    #print probas_\n",
    "    \n",
    "    # Compute ROC curve and area the curve\n",
    "    fpr, tpr, thresholds = roc_curve(label.iloc[test], probas_[:,[1]])\n",
    "    tprs.append(interp(mean_fpr, fpr, tpr))\n",
    "    tprs[-1][0] = 0.0\n",
    "    roc_auc = auc(fpr, tpr)\n",
    "    aucs.append(roc_auc)\n",
    "    plt.plot(fpr, tpr, lw=1, alpha=0.3,\n",
    "             label='ROC fold %d (AUC = %0.2f)' % (i, roc_auc))\n",
    "    \n",
    "    #calculate odds ratio\n",
    "    ortable = label.iloc[test]\n",
    "    ortable['probas_'] = probas_[:,[1]]\n",
    "    oddsratios = []\n",
    "    for j in np.arange(0.0,1.05,0.05):\n",
    "        upthreshold = ortable[ortable['probas_'] >= j]\n",
    "        x1 = float(sum(upthreshold['labels'] == 1)+1)\n",
    "        x0 = float(sum(upthreshold['labels'] == 0)+1)\n",
    "        \n",
    "        downthreshold = ortable[ortable['probas_'] < j]\n",
    "        y1 = float(sum(downthreshold['labels'] == 1)+1)\n",
    "        y0 = float(sum(downthreshold['labels'] == 0)+1)\n",
    "        \n",
    "        oddsratio = (x1/y1)/(x0/y0)\n",
    "        oddsratios.append(oddsratio)\n",
    "    oddsratio_df.insert(value = oddsratios, column = i, loc = 0)\n",
    "    \n",
    "    prediction = clf.predict_proba(data)\n",
    "    pre_df.insert(value= prediction[:,[1]], column= i, loc=0)\n",
    "    \n",
    "    fi = clf.feature_importances_\n",
    "    fi_df.insert(value= fi, column = i, loc = 0)\n",
    "\n",
    "    i += 1\n",
    "plt.plot([0, 1], [0, 1], linestyle='--', lw=2, color='r',\n",
    "         alpha=.8)\n",
    "\n",
    "mean_tpr = np.mean(tprs, axis=0)\n",
    "mean_tpr[-1] = 1.0\n",
    "mean_auc = auc(mean_fpr, mean_tpr)\n",
    "std_auc = np.std(aucs)\n",
    "plt.plot(mean_fpr, mean_tpr, color='b',\n",
    "         label=r'Mean ROC (AUC = %0.2f $\\pm$ %0.2f)' % (mean_auc, std_auc),\n",
    "         lw=2, alpha=.8)\n",
    "\n",
    "std_tpr = np.std(tprs, axis=0)\n",
    "tprs_upper = np.minimum(mean_tpr + std_tpr, 1)\n",
    "tprs_lower = np.maximum(mean_tpr - std_tpr, 0)\n",
    "plt.fill_between(mean_fpr, tprs_lower, tprs_upper, color='grey', alpha=.2,\n",
    "                 label=r'$\\pm$ 1 std. dev.')\n",
    "\n",
    "plt.xlim([-0.05, 1.05])\n",
    "plt.ylim([-0.05, 1.05])\n",
    "plt.xlabel('False Positive Rate')\n",
    "plt.ylabel('True Positive Rate')\n",
    "plt.title('ROC curve of 5-fold cross validation')\n",
    "plt.legend(loc=\"lower right\")\n",
    "plt.show()\n",
    "#plt.savefig('../plot/ROC_filteredCellNumber_LMZhong_fracE_classifier_average_08292019sfari.pdf', bbox_inches = 'tight')"
   ]
  },
  {
   "cell_type": "code",
   "execution_count": 20,
   "metadata": {},
   "outputs": [],
   "source": [
    "#plot feature importance that are not zero\n",
    "feature_importance = fi_df.mean(axis=1)\n",
    "# make importances relative to max importance\n",
    "#feature_importance = 100.0 * (feature_importance / feature_importance.max())\n",
    "\n",
    "sorted_idx = np.argsort(feature_importance) #Returns the indices that would sort an array\n",
    "sorted_idx = sorted_idx[np.array(feature_importance[sorted_idx] != 0)]"
   ]
  },
  {
   "cell_type": "code",
   "execution_count": 21,
   "metadata": {},
   "outputs": [
    {
     "data": {
      "text/plain": [
       "(63,)"
      ]
     },
     "execution_count": 21,
     "metadata": {},
     "output_type": "execute_result"
    }
   ],
   "source": [
    "sorted_idx.shape"
   ]
  },
  {
   "cell_type": "code",
   "execution_count": 22,
   "metadata": {},
   "outputs": [
    {
     "data": {
      "text/plain": [
       "(63,)"
      ]
     },
     "execution_count": 22,
     "metadata": {},
     "output_type": "execute_result"
    }
   ],
   "source": [
    "pos = np.arange(0,sorted_idx.shape[0]*3, 3) + .5\n",
    "pos.shape"
   ]
  },
  {
   "cell_type": "code",
   "execution_count": 23,
   "metadata": {},
   "outputs": [
    {
     "data": {
      "image/png": "[encoded data removed]",
      "text/plain": [
       "<Figure size 640x480 with 1 Axes>"
      ]
     },
     "metadata": {},
     "output_type": "display_data"
    }
   ],
   "source": [
    "plt.tick_params(axis = \"y\", labelsize = 3.5)\n",
    "plt.barh(pos, feature_importance[sorted_idx], align='center')\n",
    "plt.yticks(pos, combine.columns[sorted_idx])\n",
    "plt.xlabel('Relative Importance')\n",
    "plt.title('Variable Importance')\n",
    "plt.show()"
   ]
  },
  {
   "cell_type": "code",
   "execution_count": 24,
   "metadata": {},
   "outputs": [
    {
     "data": {
      "text/html": [
       "<div>\n",
       "<style scoped>\n",
       "    .dataframe tbody tr th:only-of-type {\n",
       "        vertical-align: middle;\n",
       "    }\n",
       "\n",
       "    .dataframe tbody tr th {\n",
       "        vertical-align: top;\n",
       "    }\n",
       "\n",
       "    .dataframe thead th {\n",
       "        text-align: right;\n",
       "    }\n",
       "</style>\n",
       "<table border=\"1\" class=\"dataframe\">\n",
       "  <thead>\n",
       "    <tr style=\"text-align: right;\">\n",
       "      <th></th>\n",
       "      <th>celltypes</th>\n",
       "      <th>importance</th>\n",
       "    </tr>\n",
       "  </thead>\n",
       "  <tbody>\n",
       "    <tr>\n",
       "      <th>20</th>\n",
       "      <td>hPeric_10</td>\n",
       "      <td>0.000190</td>\n",
       "    </tr>\n",
       "    <tr>\n",
       "      <th>75</th>\n",
       "      <td>exneurons_1_GW10</td>\n",
       "      <td>0.000235</td>\n",
       "    </tr>\n",
       "    <tr>\n",
       "      <th>16</th>\n",
       "      <td>hNbM_10</td>\n",
       "      <td>0.000238</td>\n",
       "    </tr>\n",
       "    <tr>\n",
       "      <th>74</th>\n",
       "      <td>exneurons_1_GW8</td>\n",
       "      <td>0.000395</td>\n",
       "    </tr>\n",
       "    <tr>\n",
       "      <th>60</th>\n",
       "      <td>astrocytes_3_GW26</td>\n",
       "      <td>0.000420</td>\n",
       "    </tr>\n",
       "    <tr>\n",
       "      <th>...</th>\n",
       "      <td>...</td>\n",
       "      <td>...</td>\n",
       "    </tr>\n",
       "    <tr>\n",
       "      <th>6</th>\n",
       "      <td>hOMTN_9</td>\n",
       "      <td>0.034298</td>\n",
       "    </tr>\n",
       "    <tr>\n",
       "      <th>21</th>\n",
       "      <td>hDA1_10</td>\n",
       "      <td>0.034443</td>\n",
       "    </tr>\n",
       "    <tr>\n",
       "      <th>3</th>\n",
       "      <td>hRgl2a_9</td>\n",
       "      <td>0.043164</td>\n",
       "    </tr>\n",
       "    <tr>\n",
       "      <th>13</th>\n",
       "      <td>hNbGaba_9</td>\n",
       "      <td>0.166614</td>\n",
       "    </tr>\n",
       "    <tr>\n",
       "      <th>11</th>\n",
       "      <td>hGaba_9</td>\n",
       "      <td>0.360208</td>\n",
       "    </tr>\n",
       "  </tbody>\n",
       "</table>\n",
       "<p>63 rows × 2 columns</p>\n",
       "</div>"
      ],
      "text/plain": [
       "            celltypes  importance\n",
       "20          hPeric_10    0.000190\n",
       "75   exneurons_1_GW10    0.000235\n",
       "16            hNbM_10    0.000238\n",
       "74    exneurons_1_GW8    0.000395\n",
       "60  astrocytes_3_GW26    0.000420\n",
       "..                ...         ...\n",
       "6             hOMTN_9    0.034298\n",
       "21            hDA1_10    0.034443\n",
       "3            hRgl2a_9    0.043164\n",
       "13          hNbGaba_9    0.166614\n",
       "11            hGaba_9    0.360208\n",
       "\n",
       "[63 rows x 2 columns]"
      ]
     },
     "execution_count": 24,
     "metadata": {},
     "output_type": "execute_result"
    }
   ],
   "source": [
    "feature_importance_sele = pd.DataFrame({'celltypes': combine.columns[sorted_idx], 'importance': feature_importance[sorted_idx]})\n",
    "feature_importance_sele"
   ]
  },
  {
   "cell_type": "code",
   "execution_count": 25,
   "metadata": {},
   "outputs": [],
   "source": [
    "feature_importance_sele.to_csv('~/myproject/Autism-discovering-genetic-risk-genes/data/feature_importance_filteredCellNumber_LMZhong_fracE_filtergene_zhong_classifier_average_noUnk_08292019sfari.csv')"
   ]
  },
  {
   "cell_type": "code",
   "execution_count": 26,
   "metadata": {},
   "outputs": [
    {
     "data": {
      "text/html": [
       "<div>\n",
       "<style scoped>\n",
       "    .dataframe tbody tr th:only-of-type {\n",
       "        vertical-align: middle;\n",
       "    }\n",
       "\n",
       "    .dataframe tbody tr th {\n",
       "        vertical-align: top;\n",
       "    }\n",
       "\n",
       "    .dataframe thead th {\n",
       "        text-align: right;\n",
       "    }\n",
       "</style>\n",
       "<table border=\"1\" class=\"dataframe\">\n",
       "  <thead>\n",
       "    <tr style=\"text-align: right;\">\n",
       "      <th></th>\n",
       "      <th>Frisk</th>\n",
       "      <th>Batch</th>\n",
       "    </tr>\n",
       "  </thead>\n",
       "  <tbody>\n",
       "    <tr>\n",
       "      <th>DDX11L1</th>\n",
       "      <td>0.074373</td>\n",
       "      <td>testing</td>\n",
       "    </tr>\n",
       "    <tr>\n",
       "      <th>LOC101928626</th>\n",
       "      <td>0.111185</td>\n",
       "      <td>testing</td>\n",
       "    </tr>\n",
       "    <tr>\n",
       "      <th>LINC00115</th>\n",
       "      <td>0.110651</td>\n",
       "      <td>testing</td>\n",
       "    </tr>\n",
       "    <tr>\n",
       "      <th>LINC01128</th>\n",
       "      <td>0.219740</td>\n",
       "      <td>testing</td>\n",
       "    </tr>\n",
       "    <tr>\n",
       "      <th>FAM41C</th>\n",
       "      <td>0.137396</td>\n",
       "      <td>testing</td>\n",
       "    </tr>\n",
       "    <tr>\n",
       "      <th>...</th>\n",
       "      <td>...</td>\n",
       "      <td>...</td>\n",
       "    </tr>\n",
       "    <tr>\n",
       "      <th>TTTY14</th>\n",
       "      <td>0.071694</td>\n",
       "      <td>testing</td>\n",
       "    </tr>\n",
       "    <tr>\n",
       "      <th>CD24</th>\n",
       "      <td>0.648107</td>\n",
       "      <td>testing</td>\n",
       "    </tr>\n",
       "    <tr>\n",
       "      <th>KDM5D</th>\n",
       "      <td>0.119811</td>\n",
       "      <td>testing</td>\n",
       "    </tr>\n",
       "    <tr>\n",
       "      <th>EIF1AY</th>\n",
       "      <td>0.112831</td>\n",
       "      <td>testing</td>\n",
       "    </tr>\n",
       "    <tr>\n",
       "      <th>RPS4Y2</th>\n",
       "      <td>0.057671</td>\n",
       "      <td>testing</td>\n",
       "    </tr>\n",
       "  </tbody>\n",
       "</table>\n",
       "<p>17740 rows × 2 columns</p>\n",
       "</div>"
      ],
      "text/plain": [
       "                 Frisk    Batch\n",
       "DDX11L1       0.074373  testing\n",
       "LOC101928626  0.111185  testing\n",
       "LINC00115     0.110651  testing\n",
       "LINC01128     0.219740  testing\n",
       "FAM41C        0.137396  testing\n",
       "...                ...      ...\n",
       "TTTY14        0.071694  testing\n",
       "CD24          0.648107  testing\n",
       "KDM5D         0.119811  testing\n",
       "EIF1AY        0.112831  testing\n",
       "RPS4Y2        0.057671  testing\n",
       "\n",
       "[17740 rows x 2 columns]"
      ]
     },
     "execution_count": 26,
     "metadata": {},
     "output_type": "execute_result"
    }
   ],
   "source": [
    "pre_prob = pd.DataFrame(pre_df.mean(axis=1))\n",
    "\n",
    "pre_prob['Batch'] = 'testing'\n",
    "pre_prob.loc[autism.index,'Batch'] = 'autism'\n",
    "pre_prob.loc[control.index,'Batch'] = 'control'\n",
    "\n",
    "pre_prob.rename(columns={0 : 'Frisk'}, inplace=True)\n",
    "pre_prob"
   ]
  },
  {
   "cell_type": "code",
   "execution_count": 27,
   "metadata": {},
   "outputs": [],
   "source": [
    "pre_prob.to_csv('~/myproject/Autism-discovering-genetic-risk-genes/data/prediction_allGenes_GBT_filteredCellNumber_LMZhong_fracE_classifier_average_noUnk_08292019sfari.csv')"
   ]
  },
  {
   "cell_type": "code",
   "execution_count": null,
   "metadata": {},
   "outputs": [],
   "source": []
  }
 ],
 "metadata": {
  "kernelspec": {
   "display_name": "Python 3 (ipykernel)",
   "language": "python",
   "name": "python3"
  },
  "language_info": {
   "codemirror_mode": {
    "name": "ipython",
    "version": 3
   },
   "file_extension": ".py",
   "mimetype": "text/x-python",
   "name": "python",
   "nbconvert_exporter": "python",
   "pygments_lexer": "ipython3",
   "version": "3.10.11"
  }
 },
 "nbformat": 4,
 "nbformat_minor": 4
}
