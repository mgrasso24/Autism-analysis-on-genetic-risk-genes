{
 "cells": [
  {
   "cell_type": "markdown",
   "metadata": {},
   "source": [
    "## A-risk notebook"
   ]
  },
  {
   "cell_type": "code",
   "execution_count": null,
   "metadata": {},
   "outputs": [],
   "source": [
    "This notebook calculates A-risk score - the chance of devleoping autism in this gene. "
   ]
  },
  {
   "cell_type": "markdown",
   "metadata": {},
   "source": [
    "Note - This code is from another github notebook (Reference: https://github.com/ShenLab/A-risk), just ran with an updated SFARI dataset. "
   ]
  },
  {
   "cell_type": "code",
   "execution_count": 1,
   "metadata": {},
   "outputs": [],
   "source": [
    "#5-fold cross validation\n",
    "# Run GBT classifier with cross-validation and plot ROC curves\n",
    "import numpy as np\n",
    "import pandas as pd\n",
    "import matplotlib.pyplot as plt\n",
    "from functools import reduce\n",
    "\n",
    "from sklearn.metrics import roc_curve, auc\n",
    "from sklearn import metrics\n",
    "from sklearn.ensemble import GradientBoostingClassifier\n",
    "from sklearn.model_selection import StratifiedKFold\n",
    "from scipy import interp \n",
    "from itertools import cycle\n"
   ]
  },
  {
   "cell_type": "code",
   "execution_count": 2,
   "metadata": {},
   "outputs": [],
   "source": [
    "#load the RNA_seq data f\n",
    "lm = pd.read_csv(\"~/myproject/Autism-discovering-genetic-risk-genes/data/celltype>10cells_fraction_LM_noUnk.csv\", index_col=0)\n",
    "zhong = pd.read_csv(\"~/myproject/Autism-discovering-genetic-risk-genes/data/celltype>10cells_fraction_zhong.csv\", index_col=0)"
   ]
  },
  {
   "cell_type": "code",
   "execution_count": 3,
   "metadata": {},
   "outputs": [],
   "source": [
    "df_merged = [lm, zhong]\n",
    "data = reduce(lambda left,right: pd.merge(left,right, left_index=True, right_index=True, how='inner'), df_merged)"
   ]
  },
  {
   "cell_type": "code",
   "execution_count": 4,
   "metadata": {},
   "outputs": [],
   "source": [
    "# the autism gene is from the SFARI database obtained July 13, 2023 and I flirted it to only include sutism risk genes with a score of 1 or 2\n",
    "\n",
    "autism_gene = pd.read_csv(\"~/myproject/Autism-discovering-genetic-risk-genes/data/SFARI-Gene_genes_04-03-2023release_07-13-2023export_gene_score_1.csv\", index_col=0)\n",
    "control_gene = pd.read_csv(\"~/myproject/Autism-discovering-genetic-risk-genes/data/control_genes_1911_iossifov.csv\", index_col=0)"
   ]
  },
  {
   "cell_type": "code",
   "execution_count": 5,
   "metadata": {},
   "outputs": [
    {
     "data": {
      "text/html": [
       "<div>\n",
       "<style scoped>\n",
       "    .dataframe tbody tr th:only-of-type {\n",
       "        vertical-align: middle;\n",
       "    }\n",
       "\n",
       "    .dataframe tbody tr th {\n",
       "        vertical-align: top;\n",
       "    }\n",
       "\n",
       "    .dataframe thead th {\n",
       "        text-align: right;\n",
       "    }\n",
       "</style>\n",
       "<table border=\"1\" class=\"dataframe\">\n",
       "  <thead>\n",
       "    <tr style=\"text-align: right;\">\n",
       "      <th></th>\n",
       "      <th>gene-symbol</th>\n",
       "      <th>gene-name</th>\n",
       "      <th>ensembl-id</th>\n",
       "      <th>chromosome</th>\n",
       "      <th>genetic-category</th>\n",
       "      <th>gene-score</th>\n",
       "      <th>syndromic</th>\n",
       "      <th>eagle</th>\n",
       "      <th>number-of-reports</th>\n",
       "    </tr>\n",
       "    <tr>\n",
       "      <th>status</th>\n",
       "      <th></th>\n",
       "      <th></th>\n",
       "      <th></th>\n",
       "      <th></th>\n",
       "      <th></th>\n",
       "      <th></th>\n",
       "      <th></th>\n",
       "      <th></th>\n",
       "      <th></th>\n",
       "    </tr>\n",
       "  </thead>\n",
       "  <tbody>\n",
       "    <tr>\n",
       "      <th>9</th>\n",
       "      <td>ABCE1</td>\n",
       "      <td>ATP binding cassette subfamily E member 1</td>\n",
       "      <td>ENSG00000164163</td>\n",
       "      <td>4</td>\n",
       "      <td>Rare Single Gene Mutation</td>\n",
       "      <td>1</td>\n",
       "      <td>0</td>\n",
       "      <td>NaN</td>\n",
       "      <td>3</td>\n",
       "    </tr>\n",
       "    <tr>\n",
       "      <th>9</th>\n",
       "      <td>ACTB</td>\n",
       "      <td>actin beta</td>\n",
       "      <td>ENSG00000075624</td>\n",
       "      <td>7</td>\n",
       "      <td>Rare Single Gene Mutation, Syndromic</td>\n",
       "      <td>1</td>\n",
       "      <td>1</td>\n",
       "      <td>1.00</td>\n",
       "      <td>8</td>\n",
       "    </tr>\n",
       "    <tr>\n",
       "      <th>9</th>\n",
       "      <td>ADNP</td>\n",
       "      <td>Activity-dependent neuroprotector homeobox</td>\n",
       "      <td>ENSG00000101126</td>\n",
       "      <td>20</td>\n",
       "      <td>Rare Single Gene Mutation, Syndromic, Functional</td>\n",
       "      <td>1</td>\n",
       "      <td>1</td>\n",
       "      <td>41.50</td>\n",
       "      <td>69</td>\n",
       "    </tr>\n",
       "    <tr>\n",
       "      <th>9</th>\n",
       "      <td>ADSL</td>\n",
       "      <td>adenylosuccinate lyase</td>\n",
       "      <td>ENSG00000239900</td>\n",
       "      <td>22</td>\n",
       "      <td>Rare Single Gene Mutation, Syndromic</td>\n",
       "      <td>1</td>\n",
       "      <td>1</td>\n",
       "      <td>0.35</td>\n",
       "      <td>9</td>\n",
       "    </tr>\n",
       "    <tr>\n",
       "      <th>9</th>\n",
       "      <td>AFF2</td>\n",
       "      <td>AF4/FMR2 family, member 2</td>\n",
       "      <td>ENSG00000155966</td>\n",
       "      <td>X</td>\n",
       "      <td>Rare Single Gene Mutation, Syndromic</td>\n",
       "      <td>1</td>\n",
       "      <td>0</td>\n",
       "      <td>8.70</td>\n",
       "      <td>19</td>\n",
       "    </tr>\n",
       "    <tr>\n",
       "      <th>...</th>\n",
       "      <td>...</td>\n",
       "      <td>...</td>\n",
       "      <td>...</td>\n",
       "      <td>...</td>\n",
       "      <td>...</td>\n",
       "      <td>...</td>\n",
       "      <td>...</td>\n",
       "      <td>...</td>\n",
       "      <td>...</td>\n",
       "    </tr>\n",
       "    <tr>\n",
       "      <th>9</th>\n",
       "      <td>UBR1</td>\n",
       "      <td>ubiquitin protein ligase E3 component n-recogn...</td>\n",
       "      <td>ENSG00000159459</td>\n",
       "      <td>15</td>\n",
       "      <td>Rare Single Gene Mutation</td>\n",
       "      <td>1</td>\n",
       "      <td>0</td>\n",
       "      <td>1.60</td>\n",
       "      <td>1</td>\n",
       "    </tr>\n",
       "    <tr>\n",
       "      <th>9</th>\n",
       "      <td>ZBTB21</td>\n",
       "      <td>zinc finger and BTB domain containing 21</td>\n",
       "      <td>ENSG00000173276</td>\n",
       "      <td>21</td>\n",
       "      <td>Rare Single Gene Mutation</td>\n",
       "      <td>1</td>\n",
       "      <td>0</td>\n",
       "      <td>NaN</td>\n",
       "      <td>3</td>\n",
       "    </tr>\n",
       "    <tr>\n",
       "      <th>9</th>\n",
       "      <td>ZMYND8</td>\n",
       "      <td>zinc finger MYND-type containing 8</td>\n",
       "      <td>ENSG00000101040</td>\n",
       "      <td>20</td>\n",
       "      <td>Rare Single Gene Mutation, Syndromic</td>\n",
       "      <td>1</td>\n",
       "      <td>1</td>\n",
       "      <td>4.50</td>\n",
       "      <td>8</td>\n",
       "    </tr>\n",
       "    <tr>\n",
       "      <th>9</th>\n",
       "      <td>ZNF292</td>\n",
       "      <td>zinc finger protein 292</td>\n",
       "      <td>ENSG00000188994</td>\n",
       "      <td>6</td>\n",
       "      <td>Rare Single Gene Mutation, Syndromic</td>\n",
       "      <td>1</td>\n",
       "      <td>1</td>\n",
       "      <td>NaN</td>\n",
       "      <td>11</td>\n",
       "    </tr>\n",
       "    <tr>\n",
       "      <th>9</th>\n",
       "      <td>ZNF462</td>\n",
       "      <td>Zinc finger protein 462</td>\n",
       "      <td>ENSG00000148143</td>\n",
       "      <td>9</td>\n",
       "      <td>Rare Single Gene Mutation, Syndromic, Functional</td>\n",
       "      <td>1</td>\n",
       "      <td>1</td>\n",
       "      <td>10.60</td>\n",
       "      <td>12</td>\n",
       "    </tr>\n",
       "  </tbody>\n",
       "</table>\n",
       "<p>232 rows × 9 columns</p>\n",
       "</div>"
      ],
      "text/plain": [
       "       gene-symbol                                          gene-name   \n",
       "status                                                                  \n",
       "9            ABCE1          ATP binding cassette subfamily E member 1  \\\n",
       "9             ACTB                                         actin beta   \n",
       "9             ADNP         Activity-dependent neuroprotector homeobox   \n",
       "9             ADSL                             adenylosuccinate lyase   \n",
       "9             AFF2                          AF4/FMR2 family, member 2   \n",
       "...            ...                                                ...   \n",
       "9             UBR1  ubiquitin protein ligase E3 component n-recogn...   \n",
       "9           ZBTB21           zinc finger and BTB domain containing 21   \n",
       "9           ZMYND8                 zinc finger MYND-type containing 8   \n",
       "9           ZNF292                            zinc finger protein 292   \n",
       "9           ZNF462                            Zinc finger protein 462   \n",
       "\n",
       "             ensembl-id chromosome   \n",
       "status                               \n",
       "9       ENSG00000164163          4  \\\n",
       "9       ENSG00000075624          7   \n",
       "9       ENSG00000101126         20   \n",
       "9       ENSG00000239900         22   \n",
       "9       ENSG00000155966          X   \n",
       "...                 ...        ...   \n",
       "9       ENSG00000159459         15   \n",
       "9       ENSG00000173276         21   \n",
       "9       ENSG00000101040         20   \n",
       "9       ENSG00000188994          6   \n",
       "9       ENSG00000148143          9   \n",
       "\n",
       "                                        genetic-category  gene-score   \n",
       "status                                                                 \n",
       "9                              Rare Single Gene Mutation           1  \\\n",
       "9                   Rare Single Gene Mutation, Syndromic           1   \n",
       "9       Rare Single Gene Mutation, Syndromic, Functional           1   \n",
       "9                   Rare Single Gene Mutation, Syndromic           1   \n",
       "9                   Rare Single Gene Mutation, Syndromic           1   \n",
       "...                                                  ...         ...   \n",
       "9                              Rare Single Gene Mutation           1   \n",
       "9                              Rare Single Gene Mutation           1   \n",
       "9                   Rare Single Gene Mutation, Syndromic           1   \n",
       "9                   Rare Single Gene Mutation, Syndromic           1   \n",
       "9       Rare Single Gene Mutation, Syndromic, Functional           1   \n",
       "\n",
       "        syndromic  eagle  number-of-reports  \n",
       "status                                       \n",
       "9               0    NaN                  3  \n",
       "9               1   1.00                  8  \n",
       "9               1  41.50                 69  \n",
       "9               1   0.35                  9  \n",
       "9               0   8.70                 19  \n",
       "...           ...    ...                ...  \n",
       "9               0   1.60                  1  \n",
       "9               0    NaN                  3  \n",
       "9               1   4.50                  8  \n",
       "9               1    NaN                 11  \n",
       "9               1  10.60                 12  \n",
       "\n",
       "[232 rows x 9 columns]"
      ]
     },
     "execution_count": 5,
     "metadata": {},
     "output_type": "execute_result"
    }
   ],
   "source": [
    "autism_gene"
   ]
  },
  {
   "cell_type": "code",
   "execution_count": 6,
   "metadata": {},
   "outputs": [
    {
     "data": {
      "text/plain": [
       "(225, 95)"
      ]
     },
     "execution_count": 6,
     "metadata": {},
     "output_type": "execute_result"
    }
   ],
   "source": [
    "autism = data.loc[data.index.intersection(autism_gene['gene-symbol']),]\n",
    "autism.shape"
   ]
  },
  {
   "cell_type": "code",
   "execution_count": 7,
   "metadata": {},
   "outputs": [
    {
     "data": {
      "text/plain": [
       "(156, 95)"
      ]
     },
     "execution_count": 7,
     "metadata": {},
     "output_type": "execute_result"
    }
   ],
   "source": [
    "control = data.loc[data.index.intersection(control_gene['GeneName']), ]\n",
    "control.shape"
   ]
  },
  {
   "cell_type": "code",
   "execution_count": 8,
   "metadata": {},
   "outputs": [
    {
     "data": {
      "text/plain": [
       "Index(['KDM5B', 'RAI1', 'EIF3G', 'LZTR1', 'ATRX'], dtype='object')"
      ]
     },
     "execution_count": 8,
     "metadata": {},
     "output_type": "execute_result"
    }
   ],
   "source": [
    "# looking for overlap between the controls/ autism risk genes \n",
    "autism.index.intersection(control.index)"
   ]
  },
  {
   "cell_type": "code",
   "execution_count": 9,
   "metadata": {},
   "outputs": [
    {
     "data": {
      "text/plain": [
       "(151, 95)"
      ]
     },
     "execution_count": 9,
     "metadata": {},
     "output_type": "execute_result"
    }
   ],
   "source": [
    "# excluded the overlap from the negative training dataset \n",
    "control = control.drop(['KDM5B', ])\n",
    "control = control.drop(['RAI1', ])\n",
    "control = control.drop(['EIF3G', ])\n",
    "control = control.drop(['LZTR1', ])\n",
    "control = control.drop(['ATRX', ])\n",
    "\n",
    "control.shape"
   ]
  },
  {
   "cell_type": "code",
   "execution_count": 10,
   "metadata": {},
   "outputs": [
    {
     "data": {
      "text/plain": [
       "(376, 95)"
      ]
     },
     "execution_count": 10,
     "metadata": {},
     "output_type": "execute_result"
    }
   ],
   "source": [
    "combine = [autism, control]\n",
    "combine = pd.concat(combine)\n",
    "combine.shape"
   ]
  },
  {
   "cell_type": "code",
   "execution_count": 11,
   "metadata": {},
   "outputs": [
    {
     "data": {
      "text/plain": [
       "(376, 1)"
      ]
     },
     "execution_count": 11,
     "metadata": {},
     "output_type": "execute_result"
    }
   ],
   "source": [
    "prelabel = np.array([1,0])\n",
    "label = pd.DataFrame({'labels': np.repeat(prelabel, [autism.shape[0], control.shape[0]], axis = 0)})\n",
    "label.shape"
   ]
  },
  {
   "cell_type": "code",
   "execution_count": 12,
   "metadata": {},
   "outputs": [],
   "source": [
    "index = np.random.permutation(label.index)\n",
    "combine = combine.iloc[index]\n",
    "label = label.iloc[index]"
   ]
  },
  {
   "cell_type": "code",
   "execution_count": 13,
   "metadata": {},
   "outputs": [
    {
     "name": "stderr",
     "output_type": "stream",
     "text": [
      "/usr/local/lib/python3.10/site-packages/sklearn/ensemble/_gb.py:424: DataConversionWarning: A column-vector y was passed when a 1d array was expected. Please change the shape of y to (n_samples, ), for example using ravel().\n",
      "  y = column_or_1d(y, warn=True)\n",
      "/var/folders/vd/b3txxvcn55qckqbgw5mfn_z80000gn/T/ipykernel_45658/4134823524.py:21: DeprecationWarning: scipy.interp is deprecated and will be removed in SciPy 2.0.0, use numpy.interp instead\n",
      "  tprs.append(interp(mean_fpr, fpr, tpr))\n",
      "/var/folders/vd/b3txxvcn55qckqbgw5mfn_z80000gn/T/ipykernel_45658/4134823524.py:30: SettingWithCopyWarning: \n",
      "A value is trying to be set on a copy of a slice from a DataFrame.\n",
      "Try using .loc[row_indexer,col_indexer] = value instead\n",
      "\n",
      "See the caveats in the documentation: https://pandas.pydata.org/pandas-docs/stable/user_guide/indexing.html#returning-a-view-versus-a-copy\n",
      "  ortable['probas_'] = probas_[:,[1]]\n",
      "/usr/local/lib/python3.10/site-packages/sklearn/ensemble/_gb.py:424: DataConversionWarning: A column-vector y was passed when a 1d array was expected. Please change the shape of y to (n_samples, ), for example using ravel().\n",
      "  y = column_or_1d(y, warn=True)\n",
      "/var/folders/vd/b3txxvcn55qckqbgw5mfn_z80000gn/T/ipykernel_45658/4134823524.py:21: DeprecationWarning: scipy.interp is deprecated and will be removed in SciPy 2.0.0, use numpy.interp instead\n",
      "  tprs.append(interp(mean_fpr, fpr, tpr))\n",
      "/var/folders/vd/b3txxvcn55qckqbgw5mfn_z80000gn/T/ipykernel_45658/4134823524.py:30: SettingWithCopyWarning: \n",
      "A value is trying to be set on a copy of a slice from a DataFrame.\n",
      "Try using .loc[row_indexer,col_indexer] = value instead\n",
      "\n",
      "See the caveats in the documentation: https://pandas.pydata.org/pandas-docs/stable/user_guide/indexing.html#returning-a-view-versus-a-copy\n",
      "  ortable['probas_'] = probas_[:,[1]]\n",
      "/usr/local/lib/python3.10/site-packages/sklearn/ensemble/_gb.py:424: DataConversionWarning: A column-vector y was passed when a 1d array was expected. Please change the shape of y to (n_samples, ), for example using ravel().\n",
      "  y = column_or_1d(y, warn=True)\n",
      "/var/folders/vd/b3txxvcn55qckqbgw5mfn_z80000gn/T/ipykernel_45658/4134823524.py:21: DeprecationWarning: scipy.interp is deprecated and will be removed in SciPy 2.0.0, use numpy.interp instead\n",
      "  tprs.append(interp(mean_fpr, fpr, tpr))\n",
      "/var/folders/vd/b3txxvcn55qckqbgw5mfn_z80000gn/T/ipykernel_45658/4134823524.py:30: SettingWithCopyWarning: \n",
      "A value is trying to be set on a copy of a slice from a DataFrame.\n",
      "Try using .loc[row_indexer,col_indexer] = value instead\n",
      "\n",
      "See the caveats in the documentation: https://pandas.pydata.org/pandas-docs/stable/user_guide/indexing.html#returning-a-view-versus-a-copy\n",
      "  ortable['probas_'] = probas_[:,[1]]\n",
      "/usr/local/lib/python3.10/site-packages/sklearn/ensemble/_gb.py:424: DataConversionWarning: A column-vector y was passed when a 1d array was expected. Please change the shape of y to (n_samples, ), for example using ravel().\n",
      "  y = column_or_1d(y, warn=True)\n",
      "/var/folders/vd/b3txxvcn55qckqbgw5mfn_z80000gn/T/ipykernel_45658/4134823524.py:21: DeprecationWarning: scipy.interp is deprecated and will be removed in SciPy 2.0.0, use numpy.interp instead\n",
      "  tprs.append(interp(mean_fpr, fpr, tpr))\n",
      "/var/folders/vd/b3txxvcn55qckqbgw5mfn_z80000gn/T/ipykernel_45658/4134823524.py:30: SettingWithCopyWarning: \n",
      "A value is trying to be set on a copy of a slice from a DataFrame.\n",
      "Try using .loc[row_indexer,col_indexer] = value instead\n",
      "\n",
      "See the caveats in the documentation: https://pandas.pydata.org/pandas-docs/stable/user_guide/indexing.html#returning-a-view-versus-a-copy\n",
      "  ortable['probas_'] = probas_[:,[1]]\n",
      "/usr/local/lib/python3.10/site-packages/sklearn/ensemble/_gb.py:424: DataConversionWarning: A column-vector y was passed when a 1d array was expected. Please change the shape of y to (n_samples, ), for example using ravel().\n",
      "  y = column_or_1d(y, warn=True)\n",
      "/var/folders/vd/b3txxvcn55qckqbgw5mfn_z80000gn/T/ipykernel_45658/4134823524.py:21: DeprecationWarning: scipy.interp is deprecated and will be removed in SciPy 2.0.0, use numpy.interp instead\n",
      "  tprs.append(interp(mean_fpr, fpr, tpr))\n",
      "/var/folders/vd/b3txxvcn55qckqbgw5mfn_z80000gn/T/ipykernel_45658/4134823524.py:30: SettingWithCopyWarning: \n",
      "A value is trying to be set on a copy of a slice from a DataFrame.\n",
      "Try using .loc[row_indexer,col_indexer] = value instead\n",
      "\n",
      "See the caveats in the documentation: https://pandas.pydata.org/pandas-docs/stable/user_guide/indexing.html#returning-a-view-versus-a-copy\n",
      "  ortable['probas_'] = probas_[:,[1]]\n"
     ]
    },
    {
     "data": {
      "image/png": "[encoded data removed]",
      "text/plain": [
       "<Figure size 640x480 with 1 Axes>"
      ]
     },
     "metadata": {},
     "output_type": "display_data"
    }
   ],
   "source": [
    "cv = StratifiedKFold(n_splits=5)\n",
    "\n",
    "tprs = []\n",
    "aucs = []\n",
    "mean_fpr = np.linspace(0, 1, 100)\n",
    "\n",
    "i = 0\n",
    "pre_df = pd.DataFrame(index = data.index)\n",
    "oddsratio_df = pd.DataFrame(index = np.arange(0.0,1.05,0.05))\n",
    "fi_df = pd.DataFrame()\n",
    "for train, test in cv.split(combine, label):\n",
    "    params = {'n_estimators': 300,'learning_rate': 0.05, 'max_depth':1, 'random_state':2019}\n",
    "    clf = GradientBoostingClassifier(**params).fit(combine.iloc[train], label.iloc[train])\n",
    "    #print(combine.ix[test])\n",
    "    \n",
    "    probas_ = clf.predict_proba(combine.iloc[test])\n",
    "    #print probas_\n",
    "    \n",
    "    # Compute ROC curve and area the curve\n",
    "    fpr, tpr, thresholds = roc_curve(label.iloc[test], probas_[:,[1]])\n",
    "    tprs.append(interp(mean_fpr, fpr, tpr))\n",
    "    tprs[-1][0] = 0.0\n",
    "    roc_auc = auc(fpr, tpr)\n",
    "    aucs.append(roc_auc)\n",
    "    plt.plot(fpr, tpr, lw=1, alpha=0.3,\n",
    "             label='ROC fold %d (AUC = %0.2f)' % (i, roc_auc))\n",
    "    \n",
    "    #calculate odds ratio\n",
    "    ortable = label.iloc[test]\n",
    "    ortable['probas_'] = probas_[:,[1]]\n",
    "    oddsratios = []\n",
    "    for j in np.arange(0.0,1.05,0.05):\n",
    "        upthreshold = ortable[ortable['probas_'] >= j]\n",
    "        x1 = float(sum(upthreshold['labels'] == 1)+1)\n",
    "        x0 = float(sum(upthreshold['labels'] == 0)+1)\n",
    "        \n",
    "        downthreshold = ortable[ortable['probas_'] < j]\n",
    "        y1 = float(sum(downthreshold['labels'] == 1)+1)\n",
    "        y0 = float(sum(downthreshold['labels'] == 0)+1)\n",
    "        \n",
    "        oddsratio = (x1/y1)/(x0/y0)\n",
    "        oddsratios.append(oddsratio)\n",
    "    oddsratio_df.insert(value = oddsratios, column = i, loc = 0)\n",
    "    \n",
    "    prediction = clf.predict_proba(data)\n",
    "    pre_df.insert(value= prediction[:,[1]], column= i, loc=0)\n",
    "    \n",
    "    fi = clf.feature_importances_\n",
    "    fi_df.insert(value= fi, column = i, loc = 0)\n",
    "\n",
    "    i += 1\n",
    "plt.plot([0, 1], [0, 1], linestyle='--', lw=2, color='r',\n",
    "         alpha=.8)\n",
    "\n",
    "mean_tpr = np.mean(tprs, axis=0)\n",
    "mean_tpr[-1] = 1.0\n",
    "mean_auc = auc(mean_fpr, mean_tpr)\n",
    "std_auc = np.std(aucs)\n",
    "plt.plot(mean_fpr, mean_tpr, color='b',\n",
    "         label=r'Mean ROC (AUC = %0.2f $\\pm$ %0.2f)' % (mean_auc, std_auc),\n",
    "         lw=2, alpha=.8)\n",
    "\n",
    "std_tpr = np.std(tprs, axis=0)\n",
    "tprs_upper = np.minimum(mean_tpr + std_tpr, 1)\n",
    "tprs_lower = np.maximum(mean_tpr - std_tpr, 0)\n",
    "plt.fill_between(mean_fpr, tprs_lower, tprs_upper, color='grey', alpha=.2,\n",
    "                 label=r'$\\pm$ 1 std. dev.')\n",
    "\n",
    "plt.xlim([-0.05, 1.05])\n",
    "plt.ylim([-0.05, 1.05])\n",
    "plt.xlabel('False Positive Rate')\n",
    "plt.ylabel('True Positive Rate')\n",
    "plt.title('ROC curve of 5-fold cross validation')\n",
    "plt.legend(loc=\"lower right\")\n",
    "plt.show()\n",
    "#plt.savefig('../plot/ROC_filteredCellNumber_LMZhong_fracE_classifier_average_08292019sfari.pdf', bbox_inches = 'tight')"
   ]
  },
  {
   "cell_type": "code",
   "execution_count": 14,
   "metadata": {},
   "outputs": [],
   "source": [
    "#plot feature importance that are not zero\n",
    "feature_importance = fi_df.mean(axis=1)\n",
    "# make importances relative to max importance\n",
    "#feature_importance = 100.0 * (feature_importance / feature_importance.max())\n",
    "\n",
    "sorted_idx = np.argsort(feature_importance) #Returns the indices that would sort an array\n",
    "sorted_idx = sorted_idx[np.array(feature_importance[sorted_idx] != 0)]"
   ]
  },
  {
   "cell_type": "code",
   "execution_count": 15,
   "metadata": {},
   "outputs": [
    {
     "data": {
      "text/plain": [
       "(70,)"
      ]
     },
     "execution_count": 15,
     "metadata": {},
     "output_type": "execute_result"
    }
   ],
   "source": [
    "sorted_idx.shape"
   ]
  },
  {
   "cell_type": "code",
   "execution_count": 16,
   "metadata": {},
   "outputs": [
    {
     "data": {
      "text/plain": [
       "(70,)"
      ]
     },
     "execution_count": 16,
     "metadata": {},
     "output_type": "execute_result"
    }
   ],
   "source": [
    "pos = np.arange(0,sorted_idx.shape[0]*3, 3) + .5\n",
    "pos.shape"
   ]
  },
  {
   "cell_type": "code",
   "execution_count": 17,
   "metadata": {},
   "outputs": [
    {
     "data": {
      "image/png": "[encoded data removed]",
      "text/plain": [
       "<Figure size 640x480 with 1 Axes>"
      ]
     },
     "metadata": {},
     "output_type": "display_data"
    }
   ],
   "source": [
    "plt.tick_params(axis = \"y\", labelsize = 3.5)\n",
    "plt.barh(pos, feature_importance[sorted_idx], align='center')\n",
    "plt.yticks(pos, combine.columns[sorted_idx])\n",
    "plt.xlabel('Relative Importance')\n",
    "plt.title('Variable Importance')\n",
    "plt.show()"
   ]
  },
  {
   "cell_type": "code",
   "execution_count": 18,
   "metadata": {},
   "outputs": [
    {
     "data": {
      "text/html": [
       "<div>\n",
       "<style scoped>\n",
       "    .dataframe tbody tr th:only-of-type {\n",
       "        vertical-align: middle;\n",
       "    }\n",
       "\n",
       "    .dataframe tbody tr th {\n",
       "        vertical-align: top;\n",
       "    }\n",
       "\n",
       "    .dataframe thead th {\n",
       "        text-align: right;\n",
       "    }\n",
       "</style>\n",
       "<table border=\"1\" class=\"dataframe\">\n",
       "  <thead>\n",
       "    <tr style=\"text-align: right;\">\n",
       "      <th></th>\n",
       "      <th>celltypes</th>\n",
       "      <th>importance</th>\n",
       "    </tr>\n",
       "  </thead>\n",
       "  <tbody>\n",
       "    <tr>\n",
       "      <th>64</th>\n",
       "      <td>interneurons_5_GW26</td>\n",
       "      <td>0.000150</td>\n",
       "    </tr>\n",
       "    <tr>\n",
       "      <th>15</th>\n",
       "      <td>hDA0_10</td>\n",
       "      <td>0.000196</td>\n",
       "    </tr>\n",
       "    <tr>\n",
       "      <th>3</th>\n",
       "      <td>hRgl2a_9</td>\n",
       "      <td>0.000372</td>\n",
       "    </tr>\n",
       "    <tr>\n",
       "      <th>43</th>\n",
       "      <td>hProgFPL_8</td>\n",
       "      <td>0.000410</td>\n",
       "    </tr>\n",
       "    <tr>\n",
       "      <th>91</th>\n",
       "      <td>NPCs_8_GW16</td>\n",
       "      <td>0.000471</td>\n",
       "    </tr>\n",
       "    <tr>\n",
       "      <th>...</th>\n",
       "      <td>...</td>\n",
       "      <td>...</td>\n",
       "    </tr>\n",
       "    <tr>\n",
       "      <th>26</th>\n",
       "      <td>hRgl2b_11</td>\n",
       "      <td>0.042923</td>\n",
       "    </tr>\n",
       "    <tr>\n",
       "      <th>21</th>\n",
       "      <td>hDA1_10</td>\n",
       "      <td>0.049163</td>\n",
       "    </tr>\n",
       "    <tr>\n",
       "      <th>69</th>\n",
       "      <td>interneurons_8_GW26</td>\n",
       "      <td>0.057894</td>\n",
       "    </tr>\n",
       "    <tr>\n",
       "      <th>6</th>\n",
       "      <td>hOMTN_9</td>\n",
       "      <td>0.098263</td>\n",
       "    </tr>\n",
       "    <tr>\n",
       "      <th>11</th>\n",
       "      <td>hGaba_9</td>\n",
       "      <td>0.345132</td>\n",
       "    </tr>\n",
       "  </tbody>\n",
       "</table>\n",
       "<p>70 rows × 2 columns</p>\n",
       "</div>"
      ],
      "text/plain": [
       "              celltypes  importance\n",
       "64  interneurons_5_GW26    0.000150\n",
       "15              hDA0_10    0.000196\n",
       "3              hRgl2a_9    0.000372\n",
       "43           hProgFPL_8    0.000410\n",
       "91          NPCs_8_GW16    0.000471\n",
       "..                  ...         ...\n",
       "26            hRgl2b_11    0.042923\n",
       "21              hDA1_10    0.049163\n",
       "69  interneurons_8_GW26    0.057894\n",
       "6               hOMTN_9    0.098263\n",
       "11              hGaba_9    0.345132\n",
       "\n",
       "[70 rows x 2 columns]"
      ]
     },
     "execution_count": 18,
     "metadata": {},
     "output_type": "execute_result"
    }
   ],
   "source": [
    "feature_importance_sele = pd.DataFrame({'celltypes': combine.columns[sorted_idx], 'importance': feature_importance[sorted_idx]})\n",
    "feature_importance_sele"
   ]
  },
  {
   "cell_type": "code",
   "execution_count": 19,
   "metadata": {},
   "outputs": [],
   "source": [
    "feature_importance_sele.to_csv('~/myproject/Autism-discovering-genetic-risk-genes/data/feature_importance_filteredCellNumber_LMZhong_fracE_filtergene_zhong_classifier_average_noUnk_08292019sfari.csv')"
   ]
  },
  {
   "cell_type": "code",
   "execution_count": 20,
   "metadata": {},
   "outputs": [
    {
     "data": {
      "text/html": [
       "<div>\n",
       "<style scoped>\n",
       "    .dataframe tbody tr th:only-of-type {\n",
       "        vertical-align: middle;\n",
       "    }\n",
       "\n",
       "    .dataframe tbody tr th {\n",
       "        vertical-align: top;\n",
       "    }\n",
       "\n",
       "    .dataframe thead th {\n",
       "        text-align: right;\n",
       "    }\n",
       "</style>\n",
       "<table border=\"1\" class=\"dataframe\">\n",
       "  <thead>\n",
       "    <tr style=\"text-align: right;\">\n",
       "      <th></th>\n",
       "      <th>Frisk</th>\n",
       "      <th>Batch</th>\n",
       "    </tr>\n",
       "  </thead>\n",
       "  <tbody>\n",
       "    <tr>\n",
       "      <th>DDX11L1</th>\n",
       "      <td>0.162777</td>\n",
       "      <td>testing</td>\n",
       "    </tr>\n",
       "    <tr>\n",
       "      <th>LOC101928626</th>\n",
       "      <td>0.248135</td>\n",
       "      <td>testing</td>\n",
       "    </tr>\n",
       "    <tr>\n",
       "      <th>LINC00115</th>\n",
       "      <td>0.323940</td>\n",
       "      <td>testing</td>\n",
       "    </tr>\n",
       "    <tr>\n",
       "      <th>LINC01128</th>\n",
       "      <td>0.603277</td>\n",
       "      <td>testing</td>\n",
       "    </tr>\n",
       "    <tr>\n",
       "      <th>FAM41C</th>\n",
       "      <td>0.291624</td>\n",
       "      <td>testing</td>\n",
       "    </tr>\n",
       "    <tr>\n",
       "      <th>...</th>\n",
       "      <td>...</td>\n",
       "      <td>...</td>\n",
       "    </tr>\n",
       "    <tr>\n",
       "      <th>TTTY14</th>\n",
       "      <td>0.288128</td>\n",
       "      <td>testing</td>\n",
       "    </tr>\n",
       "    <tr>\n",
       "      <th>CD24</th>\n",
       "      <td>0.927645</td>\n",
       "      <td>testing</td>\n",
       "    </tr>\n",
       "    <tr>\n",
       "      <th>KDM5D</th>\n",
       "      <td>0.358915</td>\n",
       "      <td>testing</td>\n",
       "    </tr>\n",
       "    <tr>\n",
       "      <th>EIF1AY</th>\n",
       "      <td>0.452819</td>\n",
       "      <td>testing</td>\n",
       "    </tr>\n",
       "    <tr>\n",
       "      <th>RPS4Y2</th>\n",
       "      <td>0.144931</td>\n",
       "      <td>testing</td>\n",
       "    </tr>\n",
       "  </tbody>\n",
       "</table>\n",
       "<p>17740 rows × 2 columns</p>\n",
       "</div>"
      ],
      "text/plain": [
       "                 Frisk    Batch\n",
       "DDX11L1       0.162777  testing\n",
       "LOC101928626  0.248135  testing\n",
       "LINC00115     0.323940  testing\n",
       "LINC01128     0.603277  testing\n",
       "FAM41C        0.291624  testing\n",
       "...                ...      ...\n",
       "TTTY14        0.288128  testing\n",
       "CD24          0.927645  testing\n",
       "KDM5D         0.358915  testing\n",
       "EIF1AY        0.452819  testing\n",
       "RPS4Y2        0.144931  testing\n",
       "\n",
       "[17740 rows x 2 columns]"
      ]
     },
     "execution_count": 20,
     "metadata": {},
     "output_type": "execute_result"
    }
   ],
   "source": [
    "pre_prob = pd.DataFrame(pre_df.mean(axis=1))\n",
    "\n",
    "pre_prob['Batch'] = 'testing'\n",
    "pre_prob.loc[autism.index,'Batch'] = 'autism'\n",
    "pre_prob.loc[control.index,'Batch'] = 'control'\n",
    "\n",
    "pre_prob.rename(columns={0 : 'Frisk'}, inplace=True)\n",
    "pre_prob"
   ]
  },
  {
   "cell_type": "code",
   "execution_count": 21,
   "metadata": {},
   "outputs": [],
   "source": [
    "pre_prob.to_csv('~/myproject/Autism-discovering-genetic-risk-genes/data/prediction_allGenes_GBT_filteredCellNumber_LMZhong_fracE_classifier_average_noUnk_08292019sfari.csv')"
   ]
  }
 ],
 "metadata": {
  "kernelspec": {
   "display_name": "Python 3 (ipykernel)",
   "language": "python",
   "name": "python3"
  },
  "language_info": {
   "codemirror_mode": {
    "name": "ipython",
    "version": 3
   },
   "file_extension": ".py",
   "mimetype": "text/x-python",
   "name": "python",
   "nbconvert_exporter": "python",
   "pygments_lexer": "ipython3",
   "version": "3.10.11"
  }
 },
 "nbformat": 4,
 "nbformat_minor": 4
}
